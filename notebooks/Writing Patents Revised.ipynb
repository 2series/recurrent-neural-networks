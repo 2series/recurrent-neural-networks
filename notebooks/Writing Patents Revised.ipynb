{
 "cells": [
  {
   "cell_type": "markdown",
   "metadata": {},
   "source": [
    "# Introduction: Writing Patent Abstracts with a Recurrent Neural Network\n",
    "\n",
    "The purpose of this notebook is to develop a recurrent neural network using LSTM cells that can generate patent abstracts. We will look at using a _word level_ recurrent neural network and _embedding_ the vocab, both with pre-trained vectors and training our own embeddings. We will train the model by feeding in as the features a long sequence of words (for example 50 words) and then using the next word as the label. Over time, the network will (hopefully) learn to predict the next word in a given sequence and we can use the model predictions to generate entirely novel patent abstracts.\n",
    "\n",
    "## Approach \n",
    "\n",
    "The approach to solving this problem is:\n",
    "\n",
    "1. Read in training data: thousands of \"neural network\" patents\n",
    "2. Convert patents to integer sequences: `tokenization`\n",
    "3. Create training dataset using next word following a sequence as label\n",
    "4. Build a recurrent neural network using word embeddings and LSTM cells\n",
    "5. Load in pre-trained embeddings\n",
    "6. Train network to predict next word from sequence\n",
    "7. Generate new abstracts by feeding network a seed sequence\n",
    "8. Repeat steps 2 - 7 using pre-trained embeddings\n",
    "9. Try different model architecture to see if performance improves\n",
    "10. For fun, create a simple game where we must guess if the output is human or computer! \n",
    "\n",
    "Each of these steps is relatively simple by itself, so don't be intimidated. We'll walk through the entire process and at the end will be able to have a working application of deep learning! "
   ]
  },
  {
   "cell_type": "code",
   "execution_count": 1,
   "metadata": {},
   "outputs": [],
   "source": [
    "# Set up IPython to show all outputs from a cell\n",
    "from IPython.core.interactiveshell import InteractiveShell\n",
    "\n",
    "InteractiveShell.ast_node_interactivity = 'all'"
   ]
  },
  {
   "cell_type": "markdown",
   "metadata": {},
   "source": [
    "## Read in Data \n",
    "\n",
    "Our data consists of patent abstracts by searching for the term \"neural networks\" on [patentsview query](http://www.patentsview.org/querydev) web interface. The data can be downloaded in a number of formats and can include a number of patent attributes (I only kept 4). "
   ]
  },
  {
   "cell_type": "code",
   "execution_count": 2,
   "metadata": {},
   "outputs": [
    {
     "data": {
      "text/plain": [
       "3522"
      ]
     },
     "execution_count": 2,
     "metadata": {},
     "output_type": "execute_result"
    },
    {
     "data": {
      "text/html": [
       "<div>\n",
       "<style scoped>\n",
       "    .dataframe tbody tr th:only-of-type {\n",
       "        vertical-align: middle;\n",
       "    }\n",
       "\n",
       "    .dataframe tbody tr th {\n",
       "        vertical-align: top;\n",
       "    }\n",
       "\n",
       "    .dataframe thead th {\n",
       "        text-align: right;\n",
       "    }\n",
       "</style>\n",
       "<table border=\"1\" class=\"dataframe\">\n",
       "  <thead>\n",
       "    <tr style=\"text-align: right;\">\n",
       "      <th></th>\n",
       "      <th>patent_abstract</th>\n",
       "      <th>patent_date</th>\n",
       "      <th>patent_number</th>\n",
       "      <th>patent_title</th>\n",
       "    </tr>\n",
       "  </thead>\n",
       "  <tbody>\n",
       "    <tr>\n",
       "      <th>0</th>\n",
       "      <td>\" A \"\"Barometer\"\" Neuron enhances stability in...</td>\n",
       "      <td>1996-07-09</td>\n",
       "      <td>5535303</td>\n",
       "      <td>\"\"\"Barometer\"\" neuron for a neural network\"</td>\n",
       "    </tr>\n",
       "    <tr>\n",
       "      <th>1</th>\n",
       "      <td>\" This invention is a novel high-speed neural ...</td>\n",
       "      <td>1993-10-19</td>\n",
       "      <td>5255349</td>\n",
       "      <td>\"Electronic neural network for solving \"\"trave...</td>\n",
       "    </tr>\n",
       "    <tr>\n",
       "      <th>2</th>\n",
       "      <td>An optical information processor for use as a ...</td>\n",
       "      <td>1995-01-17</td>\n",
       "      <td>5383042</td>\n",
       "      <td>3 layer liquid crystal neural network with out...</td>\n",
       "    </tr>\n",
       "    <tr>\n",
       "      <th>3</th>\n",
       "      <td>A method and system for intelligent control of...</td>\n",
       "      <td>2001-01-02</td>\n",
       "      <td>6169981</td>\n",
       "      <td>3-brain architecture for an intelligent decisi...</td>\n",
       "    </tr>\n",
       "    <tr>\n",
       "      <th>4</th>\n",
       "      <td>A method and system for intelligent control of...</td>\n",
       "      <td>2003-06-17</td>\n",
       "      <td>6581048</td>\n",
       "      <td>3-brain architecture for an intelligent decisi...</td>\n",
       "    </tr>\n",
       "  </tbody>\n",
       "</table>\n",
       "</div>"
      ],
      "text/plain": [
       "                                     patent_abstract patent_date  \\\n",
       "0  \" A \"\"Barometer\"\" Neuron enhances stability in...  1996-07-09   \n",
       "1  \" This invention is a novel high-speed neural ...  1993-10-19   \n",
       "2  An optical information processor for use as a ...  1995-01-17   \n",
       "3  A method and system for intelligent control of...  2001-01-02   \n",
       "4  A method and system for intelligent control of...  2003-06-17   \n",
       "\n",
       "  patent_number                                       patent_title  \n",
       "0       5535303        \"\"\"Barometer\"\" neuron for a neural network\"  \n",
       "1       5255349  \"Electronic neural network for solving \"\"trave...  \n",
       "2       5383042  3 layer liquid crystal neural network with out...  \n",
       "3       6169981  3-brain architecture for an intelligent decisi...  \n",
       "4       6581048  3-brain architecture for an intelligent decisi...  "
      ]
     },
     "execution_count": 2,
     "metadata": {},
     "output_type": "execute_result"
    }
   ],
   "source": [
    "import pandas as pd\n",
    "import numpy as np\n",
    "\n",
    "# Read in data\n",
    "data = pd.read_csv('../data/neural_network_patent_query.csv', parse_dates = ['patent_date'])\n",
    "\n",
    "# Extract abstracts\n",
    "original_abstracts = list(data['patent_abstract'])\n",
    "len(original_abstracts)\n",
    "\n",
    "data.head()"
   ]
  },
  {
   "cell_type": "markdown",
   "metadata": {},
   "source": [
    "### Brief Data Exploration\n",
    "\n",
    "This data is extremely clean, which means we don't need to do any manual munging. We can still make a few simple plots out of curiousity though! "
   ]
  },
  {
   "cell_type": "code",
   "execution_count": 3,
   "metadata": {},
   "outputs": [
    {
     "data": {
      "image/png": "[encoded data removed]",
      "text/plain": [
       "<Figure size 1152x576 with 1 Axes>"
      ]
     },
     "metadata": {},
     "output_type": "display_data"
    }
   ],
   "source": [
    "import matplotlib.pyplot as plt\n",
    "%matplotlib inline\n",
    "\n",
    "plt.style.use('fivethirtyeight')\n",
    "\n",
    "data['year-month'] = [pd.datetime(year, month, 1) for year, month in zip(data['patent_date'].dt.year,\n",
    "                                                               data['patent_date'].dt.month)]\n",
    "\n",
    "monthly = data.groupby('year-month')['patent_number'].count().reset_index()\n",
    "\n",
    "monthly.set_index('year-month')['patent_number'].plot(figsize = (16, 8))\n",
    "plt.ylabel('Number of Patents'); plt.xlabel('Date'); \n",
    "plt.title('Neural Network Patents over Time');"
   ]
  },
  {
   "cell_type": "code",
   "execution_count": 4,
   "metadata": {},
   "outputs": [
    {
     "data": {
      "image/png": "[encoded data removed]",
      "text/plain": [
       "<Figure size 864x432 with 1 Axes>"
      ]
     },
     "metadata": {},
     "output_type": "display_data"
    }
   ],
   "source": [
    "monthly.groupby(monthly['year-month'].dt.year)['patent_number'].sum().plot.bar(color = 'red', edgecolor = 'k',\n",
    "                                                                               figsize = (12, 6))\n",
    "plt.xlabel('Year'); plt.ylabel('Number of Patents'); plt.title('Neural Network Patents by Year');"
   ]
  },
  {
   "cell_type": "markdown",
   "metadata": {},
   "source": [
    "The distribution of patents over time is interesting. I would expect 2018 to come out on top once the patents have been accepted. "
   ]
  },
  {
   "cell_type": "markdown",
   "metadata": {},
   "source": [
    "# Convert Text to Sequences\n",
    "\n",
    "A neural network cannot process words, so we must convert the patent abstracts into integers. This is done using the Keras utility `Tokenizer`. By default, this will convert all words to lowercase and remove punctuation. Therefore, our model will not be able to write complete sentences. However, this limits the size of the vocabulary and means that more of the words (converted into tokens) will have pre-trained embeddings.\n",
    "\n",
    "Later, we will not remove the capitalization and punctuation when we train our own embeddings.\n",
    "\n",
    "This function takes a few parameters including a training length which is the number of words we will feed into the network as features with the next word the label. For example, if we set `training_length = 50`, then the model will take in 50 words as features and the 51st word as the label. \n",
    "\n",
    "For each abstract, we can make multiple training examples by slicing at different points. We can use the first 50 words as features with the 51st as a label, then the 2nd through 51st word as features and the 52nd as the label, then 3rd - 52nd with 53rd as label and so on. This gives us much more data to train on and the performance of the model is proportional to the amount of training data."
   ]
  },
  {
   "cell_type": "code",
   "execution_count": 5,
   "metadata": {},
   "outputs": [
    {
     "data": {
      "text/plain": [
       "'\" This invention is a novel high-speed neural network based processor for solving the \"\"traveling sa'"
      ]
     },
     "execution_count": 5,
     "metadata": {},
     "output_type": "execute_result"
    }
   ],
   "source": [
    "original_abstracts[1][:100]"
   ]
  },
  {
   "cell_type": "code",
   "execution_count": 3,
   "metadata": {},
   "outputs": [
    {
     "name": "stderr",
     "output_type": "stream",
     "text": [
      "Using TensorFlow backend.\n"
     ]
    }
   ],
   "source": [
    "from keras.preprocessing.text import Tokenizer\n",
    "\n",
    "def make_sequences(texts, training_length = 50,\n",
    "                   lower = True, filters='!\"#$%&()*+,-./:;<=>?@[\\\\]^_`{|}~\\t\\n'):\n",
    "    \"\"\"Turn a set of texts into sequences of integers\"\"\"\n",
    "    \n",
    "    # Create the tokenizer object and train on texts\n",
    "    tokenizer = Tokenizer(lower=lower, filters=filters)\n",
    "    tokenizer.fit_on_texts(texts)\n",
    "    \n",
    "    # Create look-up dictionaries and reverse look-ups\n",
    "    word_idx = tokenizer.word_index\n",
    "    idx_word = tokenizer.index_word\n",
    "    num_words = len(word_idx) + 1\n",
    "    word_counts = tokenizer.word_counts\n",
    "    \n",
    "    print(f'There are {num_words} unique words.')\n",
    "    \n",
    "    # Convert text to sequences of integers\n",
    "    sequences = tokenizer.texts_to_sequences(texts)\n",
    "    \n",
    "    # Limit to sequences with more than training length tokens\n",
    "    seq_lengths = [len(x) for x in sequences]\n",
    "    over_idx = [i for i, l in enumerate(seq_lengths) if l > training_length]\n",
    "    \n",
    "    new_texts = []\n",
    "    new_sequences = []\n",
    "    \n",
    "    # Only keep sequences with more than training length tokens\n",
    "    for i in over_idx:\n",
    "        new_texts.append(texts[i])\n",
    "        new_sequences.append(sequences[i])\n",
    "        \n",
    "    \n",
    "    training_seq = []\n",
    "    labels = []\n",
    "    \n",
    "    # Iterate through the sequences of tokens\n",
    "    for seq in new_sequences:\n",
    "        \n",
    "        # Create multiple training examples from each sequence\n",
    "        for i in range(training_length, len(seq)):\n",
    "            # Extract the features and label\n",
    "            extract = seq[i - training_length: i + 1]\n",
    "            \n",
    "            # Set the features and label\n",
    "            training_seq.append(extract[:-1])\n",
    "            labels.append(extract[-1])\n",
    "    \n",
    "    print(f'There are {len(training_seq)} training sequences.')\n",
    "    \n",
    "    # Return everything needed for setting up the model\n",
    "    return word_idx, idx_word, num_words, word_counts, new_texts, new_sequences, training_seq, labels"
   ]
  },
  {
   "cell_type": "markdown",
   "metadata": {},
   "source": [
    "Let's see how this function works, the first time without removing capitalization or punctuation."
   ]
  },
  {
   "cell_type": "code",
   "execution_count": 7,
   "metadata": {},
   "outputs": [
    {
     "name": "stdout",
     "output_type": "stream",
     "text": [
      "There are 21383 unique words.\n",
      "There are 289132 training sequences.\n"
     ]
    },
    {
     "data": {
      "text/plain": [
       "[131, 74, 7, 2, 948, 2283, 6, 10, 43, 133]"
      ]
     },
     "execution_count": 7,
     "metadata": {},
     "output_type": "execute_result"
    }
   ],
   "source": [
    "TRAINING_LENGTH = 50\n",
    "\n",
    "filters = '!\"%;[\\\\]^_`{|}~\\t\\n'\n",
    "word_idx, idx_word, num_words, word_counts, abstracts, sequences, training_seq, labels = make_sequences(original_abstracts, \n",
    "                                                                                                       TRAINING_LENGTH,\n",
    "                                                                                                       lower = False,\n",
    "                                                                                                        filters = filters)\n",
    "\n",
    "sequences[1][:10]"
   ]
  },
  {
   "cell_type": "code",
   "execution_count": 8,
   "metadata": {},
   "outputs": [
    {
     "data": {
      "text/plain": [
       "'This invention is a novel high-speed neural network based processor for solving the traveling salesman and other global optimization problems. It comprises a novel hybrid architecture employing a binary synaptic array whose embodiment incorporates the fixed rules of the problem, such as the number of cities to be visited. The array is prompted by analog voltages representing variables such as distances. The processor incorporates two interconnected feedback networks, each of which solves part of the problem independently and simultaneously, yet which exchange information dynamically.'"
      ]
     },
     "execution_count": 8,
     "metadata": {},
     "output_type": "execute_result"
    }
   ],
   "source": [
    "' '.join(idx_word[i] for i in sequences[1][:100])"
   ]
  },
  {
   "cell_type": "markdown",
   "metadata": {},
   "source": [
    "We can see that none of the punctuation was removed and as a result there are over 20000 words! Let's look at the most common words."
   ]
  },
  {
   "cell_type": "code",
   "execution_count": 9,
   "metadata": {},
   "outputs": [
    {
     "data": {
      "text/plain": [
       "[('the', 30759),\n",
       " ('a', 21434),\n",
       " ('of', 20144),\n",
       " ('and', 12499),\n",
       " ('to', 11984),\n",
       " ('neural', 7231),\n",
       " ('is', 7190),\n",
       " ('for', 6771),\n",
       " ('in', 6123),\n",
       " ('network', 6099),\n",
       " ('The', 5813),\n",
       " ('an', 5286),\n",
       " ('are', 3595),\n",
       " ('by', 3536),\n",
       " ('data', 3362)]"
      ]
     },
     "execution_count": 9,
     "metadata": {},
     "output_type": "execute_result"
    }
   ],
   "source": [
    "sorted(word_counts.items(), key = lambda x: x[1], reverse = True)[:15]"
   ]
  },
  {
   "cell_type": "markdown",
   "metadata": {},
   "source": [
    "Let's now contrast this with the approach we'll first use, removing the punctuation and converting all the words to lowercase."
   ]
  },
  {
   "cell_type": "code",
   "execution_count": 10,
   "metadata": {},
   "outputs": [
    {
     "name": "stdout",
     "output_type": "stream",
     "text": [
      "There are 11755 unique words.\n",
      "There are 296866 training sequences.\n"
     ]
    },
    {
     "data": {
      "text/plain": [
       "'this invention is a novel high speed neural network based processor for solving the traveling salesman and other global optimization problems it comprises a novel hybrid architecture employing a binary synaptic array whose embodiment incorporates the fixed rules of the problem such as the number of cities to be visited the array is prompted by analog voltages representing variables such as distances the processor incorporates two interconnected feedback networks each of which solves part of the problem independently and simultaneously yet which exchange information dynamically'"
      ]
     },
     "execution_count": 10,
     "metadata": {},
     "output_type": "execute_result"
    },
    {
     "data": {
      "text/plain": [
       "[('the', 36614),\n",
       " ('a', 24904),\n",
       " ('of', 20240),\n",
       " ('and', 12968),\n",
       " ('to', 12150),\n",
       " ('network', 7829),\n",
       " ('neural', 7450),\n",
       " ('is', 7214),\n",
       " ('in', 7059),\n",
       " ('for', 6909),\n",
       " ('an', 6061),\n",
       " ('data', 4029),\n",
       " ('by', 3627),\n",
       " ('are', 3599),\n",
       " ('input', 3386)]"
      ]
     },
     "execution_count": 10,
     "metadata": {},
     "output_type": "execute_result"
    }
   ],
   "source": [
    "filters = '!\"#$%&()*+,-./:;<=>?@[\\\\]^_`{|}~\\t\\n'\n",
    "word_idx, idx_word, num_words, word_counts, abstracts, sequences, training_seq, labels = make_sequences(original_abstracts, \n",
    "                                                                                                       TRAINING_LENGTH,\n",
    "                                                                                                       lower = True,\n",
    "                                                                                                       filters = filters)\n",
    "' '.join(idx_word[i] for i in sequences[1][:100])\n",
    "sorted(word_counts.items(), key = lambda x: x[1], reverse = True)[:15]"
   ]
  },
  {
   "cell_type": "markdown",
   "metadata": {},
   "source": [
    "Our patents are no longer correct English, but we have reduced the size of the vocabulary by a factor of 2. This means our network will have fewer parameters but we won't be able to write complete sentences."
   ]
  },
  {
   "cell_type": "markdown",
   "metadata": {},
   "source": [
    "Each training sequence and labels are now represented as integers. We can convert this into a training and validation set by randomly splitting the features and labels. First, we need to convert the labels to one hot encoded vectors because our network will be trained using `categorical_crossentropy` and makes a prediction for each word in the vocabulary (we can train with the labels represented as simple integers, but I found performance was better and training faster when using a one-hot representation of the labels."
   ]
  },
  {
   "cell_type": "code",
   "execution_count": 11,
   "metadata": {},
   "outputs": [
    {
     "data": {
      "text/plain": [
       "((207806, 50), (207806, 11755))"
      ]
     },
     "execution_count": 11,
     "metadata": {},
     "output_type": "execute_result"
    }
   ],
   "source": [
    "from keras.utils import to_categorical\n",
    "from sklearn.model_selection import train_test_split\n",
    "\n",
    "X = np.array(training_seq)\n",
    "\n",
    "# One hot encoding labels\n",
    "y = to_categorical(labels)\n",
    "\n",
    "X_train, X_valid, y_train, y_valid = train_test_split(X, y, test_size = 0.3, shuffle = True)\n",
    "X_train.shape, y_train.shape"
   ]
  },
  {
   "cell_type": "markdown",
   "metadata": {},
   "source": [
    "Each label is now a vector with a length equal to the number of words in the vocab."
   ]
  },
  {
   "cell_type": "code",
   "execution_count": 12,
   "metadata": {},
   "outputs": [],
   "source": [
    "def find_answer(index):\n",
    "    \"\"\"Find label corresponding to features for index in training data\"\"\"\n",
    "    \n",
    "    # Find features and label\n",
    "    features = ' '.join(idx_word[i] for i in X_train[index])\n",
    "    answer = idx_word[np.argmax(y_train[index])]\n",
    "    \n",
    "    print('Features:', features)\n",
    "    print('\\nLabel: ', answer)"
   ]
  },
  {
   "cell_type": "code",
   "execution_count": 13,
   "metadata": {},
   "outputs": [
    {
     "name": "stdout",
     "output_type": "stream",
     "text": [
      "Features: a non linear layer 2 the non linear layer 2 comprises a number of non linear activation function nodes 10 after passing through the non linear layer 2 the signal passes through the blocking layer 4 that is comprised of either binary signal blocking nodes or inverted symmetrical sigmoidal signal\n",
      "\n",
      "Label:  blocking\n"
     ]
    }
   ],
   "source": [
    "find_answer(10)"
   ]
  },
  {
   "cell_type": "code",
   "execution_count": 14,
   "metadata": {},
   "outputs": [
    {
     "name": "stdout",
     "output_type": "stream",
     "text": [
      "Features: word and each word is assigned a score based on the least costly path that can be traversed through the output matrix the word or words with the overall lowest score or scores are returned a dtw is similarly used in training whereby the sample ink only need be labeled\n",
      "\n",
      "Label:  at\n"
     ]
    }
   ],
   "source": [
    "find_answer(55)"
   ]
  },
  {
   "cell_type": "markdown",
   "metadata": {},
   "source": [
    "# Pre-Trained Embeddings\n",
    "\n",
    "Rather than training our own word embeddings, a very expensive operation, we can use word embeddings that were trained on a large corpus of words. The hope is that these embeddings will generalize from the training corpus to our needs.\n",
    "\n",
    "This code downloads 100-dimensional word embeddings if you don't already have them. There are a number of different pre-trained word embeddings you can find from [Stanford online](https://nlp.stanford.edu/data/)."
   ]
  },
  {
   "cell_type": "code",
   "execution_count": 15,
   "metadata": {},
   "outputs": [
    {
     "data": {
      "text/plain": [
       "(400000, 101)"
      ]
     },
     "execution_count": 15,
     "metadata": {},
     "output_type": "execute_result"
    }
   ],
   "source": [
    "import os\n",
    "from keras.utils import get_file\n",
    "\n",
    "# Vectors to use\n",
    "glove_vectors = '/home/ubuntu/.keras/datasets/glove.6B.zip'\n",
    "\n",
    "# Download word embeddings if they are not present\n",
    "if not os.path.exists(glove_vectors):\n",
    "    glove_vectors = get_file('glove.6B.zip', 'http://nlp.stanford.edu/data/glove.6B.zip')\n",
    "    os.system(f'unzip {glove_vectors}')\n",
    "    \n",
    "# Load in unzipped file \n",
    "glove_vectors = '/home/ubuntu/.keras/datasets/glove.6B.100d.txt'\n",
    "glove = np.loadtxt(glove_vectors, dtype='str', comments=None)\n",
    "glove.shape"
   ]
  },
  {
   "cell_type": "markdown",
   "metadata": {},
   "source": [
    "Now we separated into the words and the vectors."
   ]
  },
  {
   "cell_type": "code",
   "execution_count": 16,
   "metadata": {},
   "outputs": [
    {
     "data": {
      "text/plain": [
       "(array([-3.9551e-01,  5.4660e-01,  5.0315e-01, -6.3682e-01, -4.5470e-01,\n",
       "         3.0889e-01, -4.9240e-02,  2.7191e-01,  3.1562e-01, -3.2879e-01,\n",
       "         2.5089e-01,  1.4508e-01,  3.5136e-01, -2.2793e-01, -1.5894e-01,\n",
       "        -5.1527e-01, -2.7978e-01,  3.6470e-01, -3.9425e-01,  3.3299e-01,\n",
       "         4.3051e-01,  1.8300e-01,  2.5095e-01, -1.8547e-01,  3.4698e-01,\n",
       "         5.5137e-02, -4.5979e-01, -8.2963e-01, -1.8523e-02, -3.6772e-01,\n",
       "         4.5566e-02,  7.1052e-01, -2.2782e-02, -8.0889e-02,  2.0685e-01,\n",
       "         4.9855e-01, -5.9794e-02, -8.0048e-03, -2.3823e-01, -3.3759e-01,\n",
       "        -2.4201e-01, -2.3788e-01, -1.1362e-03, -4.0395e-01, -4.4859e-01,\n",
       "        -3.2189e-01,  4.8405e-01, -2.7999e-02,  1.0148e-01, -9.3585e-01,\n",
       "        -8.7522e-02, -3.9959e-01,  3.6545e-01,  1.3726e+00, -3.0713e-01,\n",
       "        -2.5940e+00,  2.2431e-01, -4.1168e-02,  1.7765e+00,  4.0010e-01,\n",
       "        -1.0996e-01,  1.4178e+00, -2.6154e-01,  1.8617e-01,  7.9328e-01,\n",
       "        -1.1709e-01,  8.7541e-01,  4.3911e-01,  3.4711e-01, -2.8515e-01,\n",
       "         7.6269e-02, -6.3038e-01,  1.6408e-01, -3.7053e-01,  5.8485e-01,\n",
       "        -1.5472e-01, -2.6382e-01, -1.8590e-01, -7.5228e-01, -1.5752e-01,\n",
       "         7.8539e-01, -1.8846e-02, -8.0130e-01,  1.5561e-01, -1.8624e+00,\n",
       "        -1.6969e-01,  1.9419e-01, -3.0683e-01, -7.8067e-01, -4.9689e-01,\n",
       "        -1.8256e-01, -4.2016e-02, -2.6290e-01,  5.8531e-02, -4.4664e-01,\n",
       "        -9.9765e-02, -4.3050e-01, -2.3693e-01, -1.4519e-02,  3.1981e-01]),\n",
       " 'so')"
      ]
     },
     "execution_count": 16,
     "metadata": {},
     "output_type": "execute_result"
    }
   ],
   "source": [
    "vectors = glove[:, 1:].astype('float')\n",
    "words = glove[:, 0]\n",
    "\n",
    "del glove\n",
    "\n",
    "vectors[100], words[100]"
   ]
  },
  {
   "cell_type": "markdown",
   "metadata": {},
   "source": [
    "Next we want to keep only those words that appear in our vocabulary. For words that are in our vocabulary but don't have an embedding, they will be represented as all 0s (a shortcoming that we can address by training our own embeddings.)"
   ]
  },
  {
   "cell_type": "code",
   "execution_count": 17,
   "metadata": {},
   "outputs": [
    {
     "data": {
      "text/plain": [
       "(400000, 100)"
      ]
     },
     "execution_count": 17,
     "metadata": {},
     "output_type": "execute_result"
    }
   ],
   "source": [
    "vectors.shape"
   ]
  },
  {
   "cell_type": "code",
   "execution_count": 19,
   "metadata": {},
   "outputs": [
    {
     "name": "stdout",
     "output_type": "stream",
     "text": [
      "There were 1224 words without pre-trained embeddings.\n"
     ]
    }
   ],
   "source": [
    "word_lookup = {word: vector for word, vector in zip(words, vectors)}\n",
    "\n",
    "embedding_matrix = np.zeros((num_words, vectors.shape[1]))\n",
    "\n",
    "not_found = 0\n",
    "\n",
    "for i, word in enumerate(word_idx.keys()):\n",
    "    # Look up the word embedding\n",
    "    vector = word_lookup.get(word, None)\n",
    "    \n",
    "    # Record in matrix\n",
    "    if vector is not None:\n",
    "        embedding_matrix[i + 1, :] = vector\n",
    "    else:\n",
    "        not_found += 1\n",
    "        \n",
    "print(f'There were {not_found} words without pre-trained embeddings.')"
   ]
  },
  {
   "cell_type": "markdown",
   "metadata": {},
   "source": [
    "Each word is represented by 100 numbers with a number of words that can't be found. We can find the closest words to a given word in embedding space using the cosine distance. This requires first normalizing the vectors to have a magnitude of 1."
   ]
  },
  {
   "cell_type": "code",
   "execution_count": 20,
   "metadata": {},
   "outputs": [
    {
     "name": "stderr",
     "output_type": "stream",
     "text": [
      "/home/ubuntu/anaconda3/envs/tensorflow_p36/lib/python3.6/site-packages/ipykernel/__main__.py:2: RuntimeWarning: divide by zero encountered in true_divide\n",
      "  from ipykernel import kernelapp as app\n",
      "/home/ubuntu/anaconda3/envs/tensorflow_p36/lib/python3.6/site-packages/ipykernel/__main__.py:2: RuntimeWarning: invalid value encountered in true_divide\n",
      "  from ipykernel import kernelapp as app\n"
     ]
    }
   ],
   "source": [
    "# Normalize and convert nan to 0\n",
    "embedding_matrix = embedding_matrix / np.linalg.norm(embedding_matrix, axis = 1).reshape((-1, 1))\n",
    "embedding_matrix = np.nan_to_num(embedding_matrix)"
   ]
  },
  {
   "cell_type": "code",
   "execution_count": 21,
   "metadata": {},
   "outputs": [],
   "source": [
    "def find_closest(query, embedding_matrix, n = 10):\n",
    "    \"\"\"Find closest words to a query word in embeddings\"\"\"\n",
    "    \n",
    "    idx = word_idx.get(query, None)\n",
    "    # Handle case where query is not in vocab\n",
    "    if idx is None:\n",
    "        print(f'{query} not found in vocab.')\n",
    "        return\n",
    "    else:\n",
    "        vec = embedding_matrix[idx]\n",
    "        # Handle case where word doesn't have an embedding\n",
    "        if np.all(vec == 0):\n",
    "            print(f'{query} has no pre-trained embedding.')\n",
    "            return\n",
    "        else:\n",
    "            # Calculate distance between vector and all others\n",
    "            dists = np.dot(embedding_matrix, vec)\n",
    "            \n",
    "            # Sort indexes in reverse order\n",
    "            idxs = np.argsort(dists)[::-1][:n]\n",
    "            sorted_dists = dists[idxs]\n",
    "            closest = [idx_word[i] for i in idxs]\n",
    "            \n",
    "    print(f'Query: {query}\\n')\n",
    "    max_len = max([len(i) for i in closest])\n",
    "    # Print out the word and cosine distances\n",
    "    for word, dist in zip(closest, sorted_dists):\n",
    "        print(f'Word: {word:15} Cosine Similarity: {round(dist, 4)}')"
   ]
  },
  {
   "cell_type": "code",
   "execution_count": 22,
   "metadata": {},
   "outputs": [
    {
     "name": "stdout",
     "output_type": "stream",
     "text": [
      "Query: the\n",
      "\n",
      "Word: the             Cosine Similarity: 1.0\n",
      "Word: this            Cosine Similarity: 0.8573\n",
      "Word: part            Cosine Similarity: 0.8508\n",
      "Word: one             Cosine Similarity: 0.8503\n",
      "Word: of              Cosine Similarity: 0.8329\n",
      "Word: same            Cosine Similarity: 0.8325\n",
      "Word: first           Cosine Similarity: 0.821\n",
      "Word: on              Cosine Similarity: 0.82\n",
      "Word: its             Cosine Similarity: 0.8169\n",
      "Word: as              Cosine Similarity: 0.8128\n"
     ]
    }
   ],
   "source": [
    "find_closest('the', embedding_matrix)"
   ]
  },
  {
   "cell_type": "code",
   "execution_count": 23,
   "metadata": {},
   "outputs": [
    {
     "name": "stdout",
     "output_type": "stream",
     "text": [
      "Query: neural\n",
      "\n",
      "Word: neural          Cosine Similarity: 1.0\n",
      "Word: neuronal        Cosine Similarity: 0.6841\n",
      "Word: cortical        Cosine Similarity: 0.676\n",
      "Word: plasticity      Cosine Similarity: 0.6625\n",
      "Word: pathways        Cosine Similarity: 0.6534\n",
      "Word: neurons         Cosine Similarity: 0.6485\n",
      "Word: sensory         Cosine Similarity: 0.6391\n",
      "Word: cognitive       Cosine Similarity: 0.6125\n",
      "Word: brain           Cosine Similarity: 0.6082\n",
      "Word: physiological   Cosine Similarity: 0.6022\n"
     ]
    }
   ],
   "source": [
    "find_closest('neural', embedding_matrix, 10)"
   ]
  },
  {
   "cell_type": "code",
   "execution_count": 24,
   "metadata": {},
   "outputs": [
    {
     "name": "stdout",
     "output_type": "stream",
     "text": [
      "wonder not found in vocab.\n"
     ]
    }
   ],
   "source": [
    "find_closest('wonder', embedding_matrix)"
   ]
  },
  {
   "cell_type": "code",
   "execution_count": 25,
   "metadata": {},
   "outputs": [
    {
     "name": "stdout",
     "output_type": "stream",
     "text": [
      "dnn has no pre-trained embedding.\n"
     ]
    }
   ],
   "source": [
    "find_closest('dnn', embedding_matrix, 10)"
   ]
  },
  {
   "cell_type": "markdown",
   "metadata": {},
   "source": [
    "# Build Model\n",
    "\n",
    "With data encoded as integers and an embedding matrix of pre-trained word vectors, we're ready to build the recurrent neural network. This model is relatively simple and uses an LSTM cell as the heart of the network. After converting the words into embeddings, we pass them through a single LSTM layer, then into a fully connected layer with `relu` activation before the final output layer with a `softmax` activation. The final layer produces a probability for every word in the vocab. \n",
    "\n",
    "When training, these predictions are compared to the actual label using the `categorical_crossentropy` to calculate a loss. The parameters (weights) in the network are then updated using the Adam optimizer (a variant on Stochastic Gradient Descent) with gradients calculated through backpropagation. Fortunately, Keras handles all of this behind the scenes, so we just have to set up the network and then start the training. The most difficult part is figuring out the correct shapes for the inputs and outputs into the model."
   ]
  },
  {
   "cell_type": "code",
   "execution_count": 9,
   "metadata": {},
   "outputs": [],
   "source": [
    "from keras.models import Sequential, load_model\n",
    "from keras.layers import LSTM, Dense, Dropout, Embedding, Masking\n",
    "from keras.optimizers import Adam\n",
    "\n",
    "from keras.utils import plot_model"
   ]
  },
  {
   "cell_type": "code",
   "execution_count": 49,
   "metadata": {},
   "outputs": [
    {
     "name": "stdout",
     "output_type": "stream",
     "text": [
      "_________________________________________________________________\n",
      "Layer (type)                 Output Shape              Param #   \n",
      "=================================================================\n",
      "embedding_4 (Embedding)      (None, 50, 100)           1175500   \n",
      "_________________________________________________________________\n",
      "masking_4 (Masking)          (None, 50, 100)           0         \n",
      "_________________________________________________________________\n",
      "lstm_6 (LSTM)                (None, 128)               117248    \n",
      "_________________________________________________________________\n",
      "dense_7 (Dense)              (None, 128)               16512     \n",
      "_________________________________________________________________\n",
      "dropout_4 (Dropout)          (None, 128)               0         \n",
      "_________________________________________________________________\n",
      "dense_8 (Dense)              (None, 11755)             1516395   \n",
      "=================================================================\n",
      "Total params: 2,825,655\n",
      "Trainable params: 1,650,155\n",
      "Non-trainable params: 1,175,500\n",
      "_________________________________________________________________\n"
     ]
    }
   ],
   "source": [
    "def word_level_model(embedding_matrix = None):\n",
    "    \"\"\"Build a word-level recurrent neural network to predict the \n",
    "       next word in a sequence of text\"\"\"\n",
    "    \n",
    "    model = Sequential()\n",
    "    # Map words to an embedding\n",
    "    model.add(Embedding(input_dim=num_words, output_dim=embedding_matrix.shape[1],\n",
    "                        weights = [embedding_matrix], trainable = False,\n",
    "                        input_length = TRAINING_LENGTH, mask_zero = True))\n",
    "    # Mask the zeros from the embeddings\n",
    "    model.add(Masking())\n",
    "    # Long Short Term Memory Cell layer\n",
    "    model.add(LSTM(128, return_sequences=False, dropout=0.1))\n",
    "    \n",
    "    # Dense fully connected layer\n",
    "    model.add(Dense(128, activation = 'relu'))\n",
    "    model.add(Dropout(0.5))\n",
    "    \n",
    "    # Predicted outputs\n",
    "    model.add(Dense(num_words, activation = 'softmax'))\n",
    "    \n",
    "    return model\n",
    "\n",
    "model = word_level_model(embedding_matrix)\n",
    "model.summary()"
   ]
  },
  {
   "cell_type": "markdown",
   "metadata": {},
   "source": [
    "Using pre-trained embeddings means we have about half the parameters to train. However, this also means that the embeddings might not be the best for our data, and there are a number of words with no embeddings."
   ]
  },
  {
   "cell_type": "code",
   "execution_count": 50,
   "metadata": {},
   "outputs": [
    {
     "data": {
      "image/png": "[encoded data removed]",
      "text/plain": [
       "<IPython.core.display.Image object>"
      ]
     },
     "execution_count": 50,
     "metadata": {},
     "output_type": "execute_result"
    }
   ],
   "source": [
    "model_name = 'pre-trained-rnn'\n",
    "model_dir = '../models/'\n",
    "\n",
    "plot_model(model, to_file = f'{model_dir}{model_name}.png', show_shapes = True)\n",
    "from IPython.display import Image\n",
    "\n",
    "Image(f'{model_dir}{model_name}.png')"
   ]
  },
  {
   "cell_type": "markdown",
   "metadata": {},
   "source": [
    "# Train Model\n",
    "\n",
    "We can now train the model on our training examples. We'll make sure to use early stopping with a validation set to stop the training when the loss on the validation set is no longer decreasing. Also, we'll save the best model every time the validation loss decreases so we can then load in the best model to generate predictions."
   ]
  },
  {
   "cell_type": "code",
   "execution_count": 13,
   "metadata": {},
   "outputs": [],
   "source": [
    "from keras.callbacks import EarlyStopping, ModelCheckpoint\n",
    "\n",
    "BATCH_SIZE = 2048\n",
    "callbacks = [EarlyStopping(monitor = 'val_loss', patience = 5),\n",
    "             ModelCheckpoint(f'{model_dir}{model_name}.h5', save_best_only = True, save_weights_only = False)]"
   ]
  },
  {
   "cell_type": "code",
   "execution_count": 14,
   "metadata": {},
   "outputs": [
    {
     "data": {
      "text/plain": [
       "(202392, 50)"
      ]
     },
     "execution_count": 14,
     "metadata": {},
     "output_type": "execute_result"
    },
    {
     "data": {
      "text/plain": [
       "(202392, 21383)"
      ]
     },
     "execution_count": 14,
     "metadata": {},
     "output_type": "execute_result"
    }
   ],
   "source": [
    "X_train.shape\n",
    "y_train.shape"
   ]
  },
  {
   "cell_type": "markdown",
   "metadata": {},
   "source": [
    "The model needs a loss to minimize (`categorical_crossentropy`) as well as a method for updating the weights using the gradients (`Adam`). We will also monitor accuracy which is not a good loss but can give us a more interpretable measure of the model performance."
   ]
  },
  {
   "cell_type": "markdown",
   "metadata": {},
   "source": [
    "__Depending on your machine, this may take several hours to run.__"
   ]
  },
  {
   "cell_type": "code",
   "execution_count": 53,
   "metadata": {},
   "outputs": [
    {
     "name": "stdout",
     "output_type": "stream",
     "text": [
      "Train on 207806 samples, validate on 89060 samples\n",
      "Epoch 1/150\n",
      "207806/207806 [==============================] - 42s 201us/step - loss: 6.9259 - acc: 0.0795 - val_loss: 6.3615 - val_acc: 0.0916\n",
      "Epoch 2/150\n",
      "207806/207806 [==============================] - 40s 191us/step - loss: 6.3735 - acc: 0.0921 - val_loss: 6.3469 - val_acc: 0.0916\n",
      "Epoch 3/150\n",
      "207806/207806 [==============================] - 40s 191us/step - loss: 6.3415 - acc: 0.0921 - val_loss: 6.3289 - val_acc: 0.0916\n",
      "Epoch 4/150\n",
      "207806/207806 [==============================] - 40s 191us/step - loss: 6.3044 - acc: 0.0925 - val_loss: 6.2758 - val_acc: 0.0916\n",
      "Epoch 5/150\n",
      "207806/207806 [==============================] - 40s 191us/step - loss: 6.2301 - acc: 0.1030 - val_loss: 6.1850 - val_acc: 0.1099\n",
      "Epoch 6/150\n",
      "207806/207806 [==============================] - 40s 191us/step - loss: 6.1567 - acc: 0.1110 - val_loss: 6.1164 - val_acc: 0.1164\n",
      "Epoch 7/150\n",
      "207806/207806 [==============================] - 40s 191us/step - loss: 6.0855 - acc: 0.1211 - val_loss: 6.0371 - val_acc: 0.1278\n",
      "Epoch 8/150\n",
      "207806/207806 [==============================] - 40s 191us/step - loss: 6.0121 - acc: 0.1287 - val_loss: 5.9771 - val_acc: 0.1305\n",
      "Epoch 9/150\n",
      "207806/207806 [==============================] - 40s 191us/step - loss: 5.9580 - acc: 0.1312 - val_loss: 5.9273 - val_acc: 0.1342\n",
      "Epoch 10/150\n",
      "207806/207806 [==============================] - 40s 191us/step - loss: 5.9067 - acc: 0.1340 - val_loss: 5.8820 - val_acc: 0.1385\n",
      "Epoch 11/150\n",
      "207806/207806 [==============================] - 40s 191us/step - loss: 5.8621 - acc: 0.1381 - val_loss: 5.8429 - val_acc: 0.1418\n",
      "Epoch 12/150\n",
      "207806/207806 [==============================] - 40s 191us/step - loss: 5.8252 - acc: 0.1400 - val_loss: 5.8134 - val_acc: 0.1441\n",
      "Epoch 13/150\n",
      "207806/207806 [==============================] - 40s 192us/step - loss: 5.7925 - acc: 0.1416 - val_loss: 5.7880 - val_acc: 0.1424\n",
      "Epoch 14/150\n",
      "207806/207806 [==============================] - 40s 192us/step - loss: 5.7631 - acc: 0.1428 - val_loss: 5.7637 - val_acc: 0.1451\n",
      "Epoch 15/150\n",
      "207806/207806 [==============================] - 40s 191us/step - loss: 5.7391 - acc: 0.1443 - val_loss: 5.7414 - val_acc: 0.1462\n",
      "Epoch 16/150\n",
      "207806/207806 [==============================] - 40s 192us/step - loss: 5.7096 - acc: 0.1454 - val_loss: 5.7191 - val_acc: 0.1484\n",
      "Epoch 17/150\n",
      "207806/207806 [==============================] - 40s 192us/step - loss: 5.6810 - acc: 0.1476 - val_loss: 5.6879 - val_acc: 0.1497\n",
      "Epoch 18/150\n",
      "207806/207806 [==============================] - 40s 192us/step - loss: 5.6521 - acc: 0.1492 - val_loss: 5.6684 - val_acc: 0.1539\n",
      "Epoch 19/150\n",
      "207806/207806 [==============================] - 40s 192us/step - loss: 5.6261 - acc: 0.1506 - val_loss: 5.6432 - val_acc: 0.1567\n",
      "Epoch 20/150\n",
      "207806/207806 [==============================] - 40s 191us/step - loss: 5.5984 - acc: 0.1520 - val_loss: 5.6207 - val_acc: 0.1576\n",
      "Epoch 21/150\n",
      "207806/207806 [==============================] - 40s 192us/step - loss: 5.5747 - acc: 0.1533 - val_loss: 5.6002 - val_acc: 0.1599\n",
      "Epoch 22/150\n",
      "207806/207806 [==============================] - 40s 192us/step - loss: 5.5492 - acc: 0.1552 - val_loss: 5.5794 - val_acc: 0.1598\n",
      "Epoch 23/150\n",
      "207806/207806 [==============================] - 40s 191us/step - loss: 5.5240 - acc: 0.1555 - val_loss: 5.5572 - val_acc: 0.1637\n",
      "Epoch 24/150\n",
      "207806/207806 [==============================] - 40s 192us/step - loss: 5.5010 - acc: 0.1572 - val_loss: 5.5370 - val_acc: 0.1639\n",
      "Epoch 25/150\n",
      "207806/207806 [==============================] - 40s 192us/step - loss: 5.4719 - acc: 0.1585 - val_loss: 5.5173 - val_acc: 0.1661\n",
      "Epoch 26/150\n",
      "207806/207806 [==============================] - 40s 192us/step - loss: 5.4507 - acc: 0.1590 - val_loss: 5.5015 - val_acc: 0.1660\n",
      "Epoch 27/150\n",
      "207806/207806 [==============================] - 40s 192us/step - loss: 5.4238 - acc: 0.1599 - val_loss: 5.4765 - val_acc: 0.1673\n",
      "Epoch 28/150\n",
      "207806/207806 [==============================] - 40s 192us/step - loss: 5.3961 - acc: 0.1608 - val_loss: 5.4598 - val_acc: 0.1681\n",
      "Epoch 29/150\n",
      "207806/207806 [==============================] - 40s 192us/step - loss: 5.3753 - acc: 0.1609 - val_loss: 5.4434 - val_acc: 0.1687\n",
      "Epoch 30/150\n",
      "207806/207806 [==============================] - 40s 192us/step - loss: 5.3535 - acc: 0.1623 - val_loss: 5.4278 - val_acc: 0.1688\n",
      "Epoch 31/150\n",
      "207806/207806 [==============================] - 40s 192us/step - loss: 5.3302 - acc: 0.1630 - val_loss: 5.4100 - val_acc: 0.1710\n",
      "Epoch 32/150\n",
      "207806/207806 [==============================] - 40s 192us/step - loss: 5.3048 - acc: 0.1634 - val_loss: 5.3894 - val_acc: 0.1720\n",
      "Epoch 33/150\n",
      "207806/207806 [==============================] - 40s 192us/step - loss: 5.2822 - acc: 0.1646 - val_loss: 5.3714 - val_acc: 0.1721\n",
      "Epoch 34/150\n",
      "207806/207806 [==============================] - 40s 192us/step - loss: 5.2621 - acc: 0.1652 - val_loss: 5.3593 - val_acc: 0.1740\n",
      "Epoch 35/150\n",
      "207806/207806 [==============================] - 40s 192us/step - loss: 5.2345 - acc: 0.1651 - val_loss: 5.3375 - val_acc: 0.1720\n",
      "Epoch 36/150\n",
      "207806/207806 [==============================] - 40s 192us/step - loss: 5.2108 - acc: 0.1665 - val_loss: 5.3185 - val_acc: 0.1737\n",
      "Epoch 37/150\n",
      "207806/207806 [==============================] - 40s 192us/step - loss: 5.1874 - acc: 0.1668 - val_loss: 5.3003 - val_acc: 0.1747\n",
      "Epoch 38/150\n",
      "207806/207806 [==============================] - 40s 192us/step - loss: 5.1665 - acc: 0.1677 - val_loss: 5.2860 - val_acc: 0.1742\n",
      "Epoch 39/150\n",
      "207806/207806 [==============================] - 40s 192us/step - loss: 5.1439 - acc: 0.1682 - val_loss: 5.2683 - val_acc: 0.1748\n",
      "Epoch 40/150\n",
      "207806/207806 [==============================] - 40s 192us/step - loss: 5.1184 - acc: 0.1690 - val_loss: 5.2556 - val_acc: 0.1762\n",
      "Epoch 41/150\n",
      "207806/207806 [==============================] - 40s 192us/step - loss: 5.1005 - acc: 0.1690 - val_loss: 5.2420 - val_acc: 0.1774\n",
      "Epoch 42/150\n",
      "207806/207806 [==============================] - 40s 192us/step - loss: 5.0804 - acc: 0.1695 - val_loss: 5.2291 - val_acc: 0.1772\n",
      "Epoch 43/150\n",
      "207806/207806 [==============================] - 40s 192us/step - loss: 5.0623 - acc: 0.1700 - val_loss: 5.2216 - val_acc: 0.1784\n",
      "Epoch 44/150\n",
      "207806/207806 [==============================] - 40s 192us/step - loss: 5.0409 - acc: 0.1717 - val_loss: 5.2114 - val_acc: 0.1773\n",
      "Epoch 45/150\n",
      "207806/207806 [==============================] - 40s 192us/step - loss: 5.0279 - acc: 0.1704 - val_loss: 5.1955 - val_acc: 0.1796\n",
      "Epoch 46/150\n",
      "207806/207806 [==============================] - 40s 192us/step - loss: 5.0111 - acc: 0.1720 - val_loss: 5.1861 - val_acc: 0.1826\n",
      "Epoch 47/150\n",
      "207806/207806 [==============================] - 40s 192us/step - loss: 4.9942 - acc: 0.1722 - val_loss: 5.1817 - val_acc: 0.1807\n",
      "Epoch 48/150\n",
      "207806/207806 [==============================] - 40s 192us/step - loss: 4.9772 - acc: 0.1731 - val_loss: 5.1688 - val_acc: 0.1821\n",
      "Epoch 49/150\n",
      "207806/207806 [==============================] - 40s 192us/step - loss: 4.9619 - acc: 0.1735 - val_loss: 5.1596 - val_acc: 0.1838\n",
      "Epoch 50/150\n",
      "207806/207806 [==============================] - 40s 192us/step - loss: 4.9457 - acc: 0.1742 - val_loss: 5.1559 - val_acc: 0.1845\n",
      "Epoch 51/150\n",
      "207806/207806 [==============================] - 40s 192us/step - loss: 4.9328 - acc: 0.1746 - val_loss: 5.1456 - val_acc: 0.1836\n",
      "Epoch 52/150\n",
      "207806/207806 [==============================] - 40s 192us/step - loss: 4.9211 - acc: 0.1754 - val_loss: 5.1369 - val_acc: 0.1856\n",
      "Epoch 53/150\n",
      "207806/207806 [==============================] - 40s 192us/step - loss: 4.9046 - acc: 0.1750 - val_loss: 5.1288 - val_acc: 0.1857\n",
      "Epoch 54/150\n",
      "207806/207806 [==============================] - 40s 192us/step - loss: 4.8895 - acc: 0.1758 - val_loss: 5.1228 - val_acc: 0.1859\n",
      "Epoch 55/150\n",
      "207806/207806 [==============================] - 40s 192us/step - loss: 4.8739 - acc: 0.1770 - val_loss: 5.1199 - val_acc: 0.1852\n",
      "Epoch 56/150\n",
      "207806/207806 [==============================] - 40s 192us/step - loss: 4.8615 - acc: 0.1777 - val_loss: 5.1087 - val_acc: 0.1879\n",
      "Epoch 57/150\n",
      "207806/207806 [==============================] - 40s 192us/step - loss: 4.8472 - acc: 0.1781 - val_loss: 5.1037 - val_acc: 0.1874\n"
     ]
    },
    {
     "name": "stdout",
     "output_type": "stream",
     "text": [
      "Epoch 58/150\n",
      "207806/207806 [==============================] - 40s 192us/step - loss: 4.8349 - acc: 0.1787 - val_loss: 5.0931 - val_acc: 0.1889\n",
      "Epoch 59/150\n",
      "207806/207806 [==============================] - 40s 192us/step - loss: 4.8205 - acc: 0.1793 - val_loss: 5.0947 - val_acc: 0.1890\n",
      "Epoch 60/150\n",
      "207806/207806 [==============================] - 40s 192us/step - loss: 4.8079 - acc: 0.1801 - val_loss: 5.0886 - val_acc: 0.1889\n",
      "Epoch 61/150\n",
      "207806/207806 [==============================] - 40s 192us/step - loss: 4.7957 - acc: 0.1802 - val_loss: 5.0783 - val_acc: 0.1904\n",
      "Epoch 62/150\n",
      "207806/207806 [==============================] - 40s 192us/step - loss: 4.7802 - acc: 0.1820 - val_loss: 5.0728 - val_acc: 0.1904\n",
      "Epoch 63/150\n",
      "207806/207806 [==============================] - 40s 192us/step - loss: 4.7702 - acc: 0.1813 - val_loss: 5.0695 - val_acc: 0.1900\n",
      "Epoch 64/150\n",
      "207806/207806 [==============================] - 40s 192us/step - loss: 4.7599 - acc: 0.1819 - val_loss: 5.0627 - val_acc: 0.1917\n",
      "Epoch 65/150\n",
      "207806/207806 [==============================] - 40s 192us/step - loss: 4.7481 - acc: 0.1825 - val_loss: 5.0575 - val_acc: 0.1921\n",
      "Epoch 66/150\n",
      "207806/207806 [==============================] - 40s 192us/step - loss: 4.7375 - acc: 0.1834 - val_loss: 5.0497 - val_acc: 0.1931\n",
      "Epoch 67/150\n",
      "207806/207806 [==============================] - 40s 192us/step - loss: 4.7235 - acc: 0.1844 - val_loss: 5.0496 - val_acc: 0.1927\n",
      "Epoch 68/150\n",
      "207806/207806 [==============================] - 40s 192us/step - loss: 4.7180 - acc: 0.1840 - val_loss: 5.0417 - val_acc: 0.1933\n",
      "Epoch 69/150\n",
      "207806/207806 [==============================] - 40s 192us/step - loss: 4.7047 - acc: 0.1854 - val_loss: 5.0408 - val_acc: 0.1933\n",
      "Epoch 70/150\n",
      "207806/207806 [==============================] - 40s 192us/step - loss: 4.6925 - acc: 0.1854 - val_loss: 5.0338 - val_acc: 0.1945\n",
      "Epoch 71/150\n",
      "207806/207806 [==============================] - 40s 192us/step - loss: 4.6856 - acc: 0.1863 - val_loss: 5.0343 - val_acc: 0.1945\n",
      "Epoch 72/150\n",
      "207806/207806 [==============================] - 40s 192us/step - loss: 4.6746 - acc: 0.1862 - val_loss: 5.0245 - val_acc: 0.1959\n",
      "Epoch 73/150\n",
      "207806/207806 [==============================] - 40s 192us/step - loss: 4.6653 - acc: 0.1875 - val_loss: 5.0238 - val_acc: 0.1946\n",
      "Epoch 74/150\n",
      "207806/207806 [==============================] - 40s 192us/step - loss: 4.6551 - acc: 0.1878 - val_loss: 5.0182 - val_acc: 0.1969\n",
      "Epoch 75/150\n",
      "207806/207806 [==============================] - 40s 192us/step - loss: 4.6459 - acc: 0.1879 - val_loss: 5.0177 - val_acc: 0.1977\n",
      "Epoch 76/150\n",
      "207806/207806 [==============================] - 40s 192us/step - loss: 4.6388 - acc: 0.1891 - val_loss: 5.0197 - val_acc: 0.1976\n",
      "Epoch 77/150\n",
      "207806/207806 [==============================] - 40s 192us/step - loss: 4.6257 - acc: 0.1896 - val_loss: 5.0168 - val_acc: 0.1981\n",
      "Epoch 78/150\n",
      "207806/207806 [==============================] - 40s 192us/step - loss: 4.6146 - acc: 0.1912 - val_loss: 5.0046 - val_acc: 0.1991\n",
      "Epoch 79/150\n",
      "207806/207806 [==============================] - 40s 192us/step - loss: 4.6076 - acc: 0.1898 - val_loss: 5.0019 - val_acc: 0.1998\n",
      "Epoch 80/150\n",
      "207806/207806 [==============================] - 40s 192us/step - loss: 4.5985 - acc: 0.1915 - val_loss: 5.0087 - val_acc: 0.1984\n",
      "Epoch 81/150\n",
      "207806/207806 [==============================] - 40s 192us/step - loss: 4.5897 - acc: 0.1920 - val_loss: 5.0040 - val_acc: 0.1996\n",
      "Epoch 82/150\n",
      "207806/207806 [==============================] - 40s 192us/step - loss: 4.5782 - acc: 0.1920 - val_loss: 4.9931 - val_acc: 0.2006\n",
      "Epoch 83/150\n",
      "207806/207806 [==============================] - 40s 192us/step - loss: 4.5703 - acc: 0.1934 - val_loss: 4.9929 - val_acc: 0.2016\n",
      "Epoch 84/150\n",
      "207806/207806 [==============================] - 40s 192us/step - loss: 4.5654 - acc: 0.1934 - val_loss: 4.9806 - val_acc: 0.2034\n",
      "Epoch 85/150\n",
      "207806/207806 [==============================] - 40s 192us/step - loss: 4.5582 - acc: 0.1935 - val_loss: 4.9848 - val_acc: 0.2001\n",
      "Epoch 86/150\n",
      "207806/207806 [==============================] - 40s 192us/step - loss: 4.5465 - acc: 0.1949 - val_loss: 4.9827 - val_acc: 0.2020\n",
      "Epoch 87/150\n",
      "207806/207806 [==============================] - 40s 192us/step - loss: 4.5400 - acc: 0.1953 - val_loss: 4.9756 - val_acc: 0.2029\n",
      "Epoch 88/150\n",
      "207806/207806 [==============================] - 40s 192us/step - loss: 4.5329 - acc: 0.1962 - val_loss: 4.9827 - val_acc: 0.2020\n",
      "Epoch 89/150\n",
      "207806/207806 [==============================] - 40s 192us/step - loss: 4.5246 - acc: 0.1968 - val_loss: 4.9748 - val_acc: 0.2055\n",
      "Epoch 90/150\n",
      "207806/207806 [==============================] - 40s 192us/step - loss: 4.5188 - acc: 0.1963 - val_loss: 4.9705 - val_acc: 0.2045\n",
      "Epoch 91/150\n",
      "207806/207806 [==============================] - 40s 192us/step - loss: 4.5106 - acc: 0.1974 - val_loss: 4.9727 - val_acc: 0.2051\n",
      "Epoch 92/150\n",
      "207806/207806 [==============================] - 40s 192us/step - loss: 4.5035 - acc: 0.1979 - val_loss: 4.9686 - val_acc: 0.2042\n",
      "Epoch 93/150\n",
      "207806/207806 [==============================] - 40s 192us/step - loss: 4.4944 - acc: 0.1986 - val_loss: 4.9648 - val_acc: 0.2069\n",
      "Epoch 94/150\n",
      "207806/207806 [==============================] - 40s 192us/step - loss: 4.4890 - acc: 0.1988 - val_loss: 4.9652 - val_acc: 0.2060\n",
      "Epoch 95/150\n",
      "207806/207806 [==============================] - 40s 192us/step - loss: 4.4786 - acc: 0.2004 - val_loss: 4.9586 - val_acc: 0.2079\n",
      "Epoch 96/150\n",
      "207806/207806 [==============================] - 40s 192us/step - loss: 4.4768 - acc: 0.2000 - val_loss: 4.9740 - val_acc: 0.2065\n",
      "Epoch 97/150\n",
      "207806/207806 [==============================] - 40s 192us/step - loss: 4.4695 - acc: 0.2002 - val_loss: 4.9591 - val_acc: 0.2063\n",
      "Epoch 98/150\n",
      "207806/207806 [==============================] - 40s 192us/step - loss: 4.4597 - acc: 0.2016 - val_loss: 4.9619 - val_acc: 0.2069\n",
      "Epoch 99/150\n",
      "207806/207806 [==============================] - 40s 192us/step - loss: 4.4567 - acc: 0.2014 - val_loss: 4.9575 - val_acc: 0.2093\n",
      "Epoch 100/150\n",
      "207806/207806 [==============================] - 40s 192us/step - loss: 4.4470 - acc: 0.2025 - val_loss: 4.9547 - val_acc: 0.2097\n",
      "Epoch 101/150\n",
      "207806/207806 [==============================] - 40s 192us/step - loss: 4.4402 - acc: 0.2031 - val_loss: 4.9502 - val_acc: 0.2102\n",
      "Epoch 102/150\n",
      "207806/207806 [==============================] - 40s 192us/step - loss: 4.4348 - acc: 0.2032 - val_loss: 4.9491 - val_acc: 0.2100\n",
      "Epoch 103/150\n",
      "207806/207806 [==============================] - 40s 192us/step - loss: 4.4281 - acc: 0.2033 - val_loss: 4.9486 - val_acc: 0.2102\n",
      "Epoch 104/150\n",
      "207806/207806 [==============================] - 40s 192us/step - loss: 4.4222 - acc: 0.2049 - val_loss: 4.9530 - val_acc: 0.2102\n",
      "Epoch 105/150\n",
      "207806/207806 [==============================] - 40s 192us/step - loss: 4.3988 - acc: 0.2059 - val_loss: 4.9372 - val_acc: 0.2111\n",
      "Epoch 109/150\n",
      "207806/207806 [==============================] - 40s 192us/step - loss: 4.3907 - acc: 0.2071 - val_loss: 4.9362 - val_acc: 0.2121\n",
      "Epoch 110/150\n",
      "207806/207806 [==============================] - 40s 192us/step - loss: 4.3895 - acc: 0.2072 - val_loss: 4.9427 - val_acc: 0.2127\n",
      "Epoch 111/150\n",
      "207806/207806 [==============================] - 40s 192us/step - loss: 4.3816 - acc: 0.2087 - val_loss: 4.9319 - val_acc: 0.2117\n",
      "Epoch 112/150\n",
      "207806/207806 [==============================] - 40s 192us/step - loss: 4.3796 - acc: 0.2081 - val_loss: 4.9446 - val_acc: 0.2131\n",
      "Epoch 113/150\n",
      "207806/207806 [==============================] - 40s 192us/step - loss: 4.3703 - acc: 0.2091 - val_loss: 4.9312 - val_acc: 0.2137\n",
      "Epoch 114/150\n",
      "207806/207806 [==============================] - 40s 192us/step - loss: 4.3656 - acc: 0.2089 - val_loss: 4.9399 - val_acc: 0.2140\n",
      "Epoch 115/150\n",
      "207806/207806 [==============================] - 40s 192us/step - loss: 4.3583 - acc: 0.2102 - val_loss: 4.9283 - val_acc: 0.2139\n",
      "Epoch 116/150\n",
      "207806/207806 [==============================] - 40s 192us/step - loss: 4.3587 - acc: 0.2104 - val_loss: 4.9344 - val_acc: 0.2142\n",
      "Epoch 117/150\n",
      "207806/207806 [==============================] - 40s 192us/step - loss: 4.3508 - acc: 0.2111 - val_loss: 4.9288 - val_acc: 0.2150\n",
      "Epoch 118/150\n"
     ]
    },
    {
     "name": "stdout",
     "output_type": "stream",
     "text": [
      "207806/207806 [==============================] - 40s 192us/step - loss: 4.3433 - acc: 0.2110 - val_loss: 4.9375 - val_acc: 0.2151\n",
      "Epoch 119/150\n",
      "207806/207806 [==============================] - 40s 192us/step - loss: 4.3388 - acc: 0.2118 - val_loss: 4.9214 - val_acc: 0.2151\n",
      "Epoch 120/150\n",
      "207806/207806 [==============================] - 40s 192us/step - loss: 4.3356 - acc: 0.2118 - val_loss: 4.9258 - val_acc: 0.2154\n",
      "Epoch 121/150\n",
      "207806/207806 [==============================] - 40s 192us/step - loss: 4.3337 - acc: 0.2119 - val_loss: 4.9299 - val_acc: 0.2152\n",
      "Epoch 122/150\n",
      "207806/207806 [==============================] - 40s 192us/step - loss: 4.3255 - acc: 0.2124 - val_loss: 4.9263 - val_acc: 0.2167\n",
      "Epoch 123/150\n",
      "207806/207806 [==============================] - 40s 192us/step - loss: 4.3228 - acc: 0.2135 - val_loss: 4.9249 - val_acc: 0.2162\n",
      "Epoch 124/150\n",
      "207806/207806 [==============================] - 40s 192us/step - loss: 4.3189 - acc: 0.2127 - val_loss: 4.9283 - val_acc: 0.2165\n"
     ]
    }
   ],
   "source": [
    "model.compile(optimizer = Adam(), loss = 'categorical_crossentropy', metrics = ['accuracy'])\n",
    "\n",
    "history = model.fit(X_train, y_train, batch_size = BATCH_SIZE, epochs = 150, callbacks=callbacks, \n",
    "                    validation_data = (X_valid, y_valid))"
   ]
  },
  {
   "cell_type": "markdown",
   "metadata": {},
   "source": [
    "By the end of training, our model achieves a respectable __ accuracy on the validation data. To put this in perspective, let's see what the accuracy would be if we simply guessed randomly based on the word frequencies."
   ]
  },
  {
   "cell_type": "code",
   "execution_count": 54,
   "metadata": {},
   "outputs": [],
   "source": [
    "total_words = sum(word_counts.values())\n",
    "naive_guess = [word_counts[word]/total_words for word in word_idx.keys()]"
   ]
  },
  {
   "cell_type": "code",
   "execution_count": 56,
   "metadata": {},
   "outputs": [
    {
     "data": {
      "text/plain": [
       "[0.07758962307133185,\n",
       " 0.052774675615022894,\n",
       " 0.04289107912175006,\n",
       " 0.02748080603018057,\n",
       " 0.025747362219825258,\n",
       " 0.016590625417202628,\n",
       " 0.015787477245901082,\n",
       " 0.015287363872742338,\n",
       " 0.014958899581049094,\n",
       " 0.014641030911668535]"
      ]
     },
     "execution_count": 56,
     "metadata": {},
     "output_type": "execute_result"
    }
   ],
   "source": [
    "naive_guess[:10]"
   ]
  },
  {
   "cell_type": "markdown",
   "metadata": {},
   "source": [
    "# Training Own Embeddings"
   ]
  },
  {
   "cell_type": "code",
   "execution_count": 4,
   "metadata": {},
   "outputs": [
    {
     "name": "stdout",
     "output_type": "stream",
     "text": [
      "There are 21383 unique words.\n",
      "There are 289132 training sequences.\n"
     ]
    },
    {
     "data": {
      "text/plain": [
       "[131, 74, 7, 2, 948, 2283, 6, 10, 43, 133]"
      ]
     },
     "execution_count": 4,
     "metadata": {},
     "output_type": "execute_result"
    }
   ],
   "source": [
    "TRAINING_LENGTH = 50\n",
    "\n",
    "filters = '!\"%;[\\\\]^_`{|}~\\t\\n'\n",
    "word_idx, idx_word, num_words, word_counts, abstracts, sequences, training_seq, labels = make_sequences(original_abstracts, \n",
    "                                                                                                       TRAINING_LENGTH,\n",
    "                                                                                                       lower = False,\n",
    "                                                                                                        filters = filters)\n",
    "\n",
    "sequences[1][:10]"
   ]
  },
  {
   "cell_type": "code",
   "execution_count": 6,
   "metadata": {},
   "outputs": [
    {
     "data": {
      "text/plain": [
       "((202392, 50), (202392, 21383))"
      ]
     },
     "execution_count": 6,
     "metadata": {},
     "output_type": "execute_result"
    }
   ],
   "source": [
    "from keras.utils import to_categorical\n",
    "from sklearn.model_selection import train_test_split\n",
    "\n",
    "X = np.array(training_seq)\n",
    "\n",
    "# One hot encoding labels\n",
    "y = to_categorical(labels)\n",
    "\n",
    "X_train, X_valid, y_train, y_valid = train_test_split(X, y, test_size = 0.3, shuffle = True)\n",
    "X_train.shape, y_train.shape"
   ]
  },
  {
   "cell_type": "code",
   "execution_count": 11,
   "metadata": {},
   "outputs": [
    {
     "name": "stdout",
     "output_type": "stream",
     "text": [
      "_________________________________________________________________\n",
      "Layer (type)                 Output Shape              Param #   \n",
      "=================================================================\n",
      "embedding_1 (Embedding)      (None, 50, 100)           2138300   \n",
      "_________________________________________________________________\n",
      "lstm_1 (LSTM)                (None, 128)               117248    \n",
      "_________________________________________________________________\n",
      "dense_1 (Dense)              (None, 128)               16512     \n",
      "_________________________________________________________________\n",
      "dropout_1 (Dropout)          (None, 128)               0         \n",
      "_________________________________________________________________\n",
      "dense_2 (Dense)              (None, 21383)             2758407   \n",
      "=================================================================\n",
      "Total params: 5,030,467\n",
      "Trainable params: 5,030,467\n",
      "Non-trainable params: 0\n",
      "_________________________________________________________________\n"
     ]
    }
   ],
   "source": [
    "def word_level_model(embedding_dim = 100):\n",
    "    \"\"\"Build a word-level recurrent neural network to predict the \n",
    "       next word in a sequence of text\"\"\"\n",
    "    \n",
    "    model = Sequential()\n",
    "    # Map words to an embedding\n",
    "    model.add(Embedding(input_dim=num_words, output_dim=embedding_dim,\n",
    "                        trainable = True,\n",
    "                        input_length = TRAINING_LENGTH, mask_zero = False))\n",
    "    \n",
    "    # Long Short Term Memory Cell layer\n",
    "    model.add(LSTM(128, return_sequences=False, dropout=0.1))\n",
    "    \n",
    "    # Dense fully connected layer\n",
    "    model.add(Dense(128, activation = 'relu'))\n",
    "    model.add(Dropout(0.5))\n",
    "    \n",
    "    # Predicted outputs\n",
    "    model.add(Dense(num_words, activation = 'softmax'))\n",
    "    \n",
    "    return model\n",
    "\n",
    "model = word_level_model()\n",
    "model.summary()"
   ]
  },
  {
   "cell_type": "code",
   "execution_count": 15,
   "metadata": {},
   "outputs": [],
   "source": [
    "model_name = 'training-rnn'\n",
    "model_dir = '../models/'\n",
    "\n",
    "callbacks = [EarlyStopping(monitor = 'val_loss', patience = 5),\n",
    "             ModelCheckpoint(f'{model_dir}{model_name}.h5', save_best_only = True, save_weights_only = False)]"
   ]
  },
  {
   "cell_type": "code",
   "execution_count": null,
   "metadata": {},
   "outputs": [
    {
     "name": "stdout",
     "output_type": "stream",
     "text": [
      "Train on 202392 samples, validate on 86740 samples\n",
      "Epoch 1/150\n",
      " 14336/202392 [=>............................] - ETA: 1:03 - loss: 9.9655 - acc: 0.0406"
     ]
    }
   ],
   "source": [
    "model.compile(optimizer = Adam(), loss = 'categorical_crossentropy', metrics = ['accuracy'])\n",
    "\n",
    "history = model.fit(X_train, y_train, batch_size = BATCH_SIZE, epochs = 150, callbacks=callbacks, \n",
    "                    validation_data = (X_valid, y_valid))"
   ]
  },
  {
   "cell_type": "code",
   "execution_count": null,
   "metadata": {},
   "outputs": [],
   "source": []
  },
  {
   "cell_type": "code",
   "execution_count": null,
   "metadata": {},
   "outputs": [],
   "source": [
    "sequences = tokenizer.texts_to_sequences(abstracts)\n",
    "sequences[10][:15]"
   ]
  },
  {
   "cell_type": "code",
   "execution_count": null,
   "metadata": {},
   "outputs": [],
   "source": [
    "len_idx = {idx:len(x) for idx, x in enumerate(sequences)}\n",
    "over_idx = [x[0]for x in len_idx.items() if x[1] > 50]\n",
    "len(over_idx), over_idx[:10]"
   ]
  },
  {
   "cell_type": "code",
   "execution_count": null,
   "metadata": {},
   "outputs": [],
   "source": [
    "new_abstracts = []\n",
    "new_sequences = []\n",
    "for i in over_idx:\n",
    "    new_abstracts.append(original_abstracts[i])\n",
    "    new_sequences.append(sequences[i])\n",
    "    \n",
    "len(new_abstracts), len(new_sequences)"
   ]
  },
  {
   "cell_type": "code",
   "execution_count": null,
   "metadata": {},
   "outputs": [],
   "source": [
    "sequences = new_sequences[:]\n",
    "abstracts = new_abstracts[:]"
   ]
  },
  {
   "cell_type": "code",
   "execution_count": null,
   "metadata": {},
   "outputs": [],
   "source": [
    "training_length = 50\n",
    "seq = []\n",
    "abst = []\n",
    "labels = []\n",
    "abstract_dict = {}\n",
    "n_seq = 0\n",
    "\n",
    "for idx, abstract in enumerate(sequences):\n",
    "    for i in range(training_length, len(abstract)):\n",
    "        abstract_dict[n_seq] = idx\n",
    "        s = abstract[i - training_length:i + 1]\n",
    "        seq.append(s[:-1])\n",
    "        labels.append(s[-1])\n",
    "        n_seq += 1"
   ]
  },
  {
   "cell_type": "code",
   "execution_count": null,
   "metadata": {},
   "outputs": [],
   "source": [
    "n_seq"
   ]
  },
  {
   "cell_type": "code",
   "execution_count": null,
   "metadata": {},
   "outputs": [],
   "source": [
    "seq_0 = []\n",
    "seq_1 = []\n",
    "for i, j in zip(seq[0], seq[1]):\n",
    "    seq_0.append(idx_word[i])\n",
    "    seq_1.append(idx_word[j])\n",
    "\n",
    "' '.join(seq_0)\n",
    "' '.join(seq_1)"
   ]
  },
  {
   "cell_type": "code",
   "execution_count": null,
   "metadata": {},
   "outputs": [],
   "source": [
    "idx_word[labels[0]]\n",
    "idx_word[labels[1]]"
   ]
  },
  {
   "cell_type": "code",
   "execution_count": null,
   "metadata": {},
   "outputs": [],
   "source": [
    "from keras.models import Sequential\n",
    "from keras.layers import Dense, LSTM, Embedding, TimeDistributed, Masking, Dropout"
   ]
  },
  {
   "cell_type": "code",
   "execution_count": null,
   "metadata": {},
   "outputs": [],
   "source": [
    "num_words = len(word_idx) + 1"
   ]
  },
  {
   "cell_type": "code",
   "execution_count": null,
   "metadata": {},
   "outputs": [],
   "source": [
    "import os\n",
    "from keras.utils import get_file\n",
    "\n",
    "\n",
    "glove_vectors = '/home/ubuntu/.keras/datasets/glove.6B.zip'\n",
    "\n",
    "if not os.path.exists(glove_vectors):\n",
    "    glove_vectors = get_file('glove.6B.zip', 'http://nlp.stanford.edu/data/glove.6B.zip')\n",
    "    os.system(f'unzip {glove_vectors}')\n",
    "    \n",
    "glove_vectors = '/home/ubuntu/.keras/datasets/glove.6B.100d.txt'\n",
    "glove = np.loadtxt(glove_vectors, dtype='str', comments=None)\n",
    "glove.shape"
   ]
  },
  {
   "cell_type": "code",
   "execution_count": null,
   "metadata": {},
   "outputs": [],
   "source": [
    "words = glove[:, 0]\n",
    "vectors = glove[:, 1:].astype('float')\n",
    "vectors.shape"
   ]
  },
  {
   "cell_type": "code",
   "execution_count": null,
   "metadata": {},
   "outputs": [],
   "source": [
    "word_vectors = {word: vector for word, vector in zip(words, vectors)}\n",
    "\n",
    "word_index = tokenizer.word_index\n",
    "num_words = len(word_index) + 1\n",
    "\n",
    "# Create empty matrix to hold embeddings\n",
    "embedding_matrix = np.zeros((num_words, vectors.shape[1]))\n",
    "embedding_matrix.shape"
   ]
  },
  {
   "cell_type": "code",
   "execution_count": null,
   "metadata": {},
   "outputs": [],
   "source": [
    "not_in_count = 0\n",
    "for idx, word in tokenizer.index_word.items():\n",
    "    vector = word_vectors.get(word)\n",
    "    if vector is not None:\n",
    "        embedding_matrix[idx, :] = vector\n",
    "    else:\n",
    "        not_in_count += 1\n",
    "        \n",
    "print(f'There are {not_in_count} words not in the pre-trained embeddings.')"
   ]
  },
  {
   "cell_type": "code",
   "execution_count": null,
   "metadata": {},
   "outputs": [],
   "source": [
    "def make_word_level_model():\n",
    "\n",
    "    model = Sequential()\n",
    "\n",
    "    model.add(Embedding(input_dim = num_words, \n",
    "                        output_dim = embedding_matrix.shape[1], input_length = training_length,\n",
    "                        weights = [embedding_matrix], mask_zero = True, \n",
    "                        trainable = False))\n",
    "\n",
    "    model.add(Masking(mask_value = 0.0))\n",
    "    model.add(LSTM(128, return_sequences=False, dropout=0.1))\n",
    "    model.add(Dense(128, activation = 'relu'))\n",
    "    model.add(Dropout(0.5))\n",
    "    model.add(Dense(num_words, activation = 'softmax'))\n",
    "    \n",
    "    model.compile(optimizer = 'adam', loss = 'categorical_crossentropy',\n",
    "                  metrics = ['accuracy'])\n",
    "    return model\n",
    "\n",
    "model = make_word_level_model()\n",
    "model.summary()"
   ]
  },
  {
   "cell_type": "code",
   "execution_count": null,
   "metadata": {},
   "outputs": [],
   "source": [
    "from keras.utils import to_categorical\n",
    "\n",
    "y = to_categorical(labels)\n",
    "y.shape"
   ]
  },
  {
   "cell_type": "code",
   "execution_count": null,
   "metadata": {},
   "outputs": [],
   "source": [
    "X = np.array(seq)\n",
    "X.shape"
   ]
  },
  {
   "cell_type": "code",
   "execution_count": null,
   "metadata": {},
   "outputs": [],
   "source": [
    "f_train = 0.75\n",
    "idx_train = int(f_train * len(X))\n",
    "\n",
    "X_train = X[:idx_train]\n",
    "X_valid = X[idx_train:]\n",
    "\n",
    "y_train = y[:idx_train]\n",
    "y_valid = y[idx_train:]"
   ]
  },
  {
   "cell_type": "code",
   "execution_count": null,
   "metadata": {},
   "outputs": [],
   "source": [
    "model.compile(optimizer = 'adam', loss = 'categorical_crossentropy', metrics = ['accuracy'])\n",
    "\n",
    "from keras.callbacks import EarlyStopping, ModelCheckpoint\n",
    "\n",
    "callbacks = [EarlyStopping(monitor = 'val_loss', patience = 5),\n",
    "             ModelCheckpoint('../models/better.h5', monitor = 'val_loss', \n",
    "                             save_best_only = True, save_weights_only = False)]"
   ]
  },
  {
   "cell_type": "code",
   "execution_count": null,
   "metadata": {},
   "outputs": [],
   "source": [
    "history = model.fit(X_train, y_train, epochs = 30, callbacks=callbacks, batch_size = 1024, \n",
    "                    validation_data = (X_valid, y_valid))"
   ]
  },
  {
   "cell_type": "code",
   "execution_count": null,
   "metadata": {},
   "outputs": [],
   "source": [
    "import random\n",
    "def generate_output(new_words = 50, diversity = 1):\n",
    "    seed = random.randint(0, len(seq))\n",
    "    print(seed)\n",
    "    seed = seq[seed]\n",
    "    generated = seed[:] + ['#']\n",
    "    \n",
    "    for i in range(new_words):\n",
    "    \n",
    "        preds = model.predict(np.array(seed).reshape(1, -1))[0]\n",
    "        # Diversify\n",
    "        preds = np.log(preds) / diversity\n",
    "        exp_preds = np.exp(preds)\n",
    "        # Softmax\n",
    "        preds = exp_preds / sum(exp_preds)\n",
    "        \n",
    "        probas = np.random.multinomial(1, preds, 1)[0]\n",
    "        \n",
    "        next_idx = np.argmax(probas)\n",
    "        seed = seed[1:] + [next_idx]\n",
    "        generated.append(next_idx)\n",
    "    return generated, preds"
   ]
  },
  {
   "cell_type": "code",
   "execution_count": null,
   "metadata": {},
   "outputs": [],
   "source": [
    "new_abstract, preds = generate_output(diversity = 2)\n",
    "\n",
    "n = []\n",
    "for i in new_abstract:\n",
    "    n.append(idx_word.get(i, '#'))\n",
    "    \n",
    "' '.join(n)"
   ]
  },
  {
   "cell_type": "code",
   "execution_count": null,
   "metadata": {},
   "outputs": [],
   "source": [
    "new_abstract, preds = generate_output(diversity = 2)\n",
    "\n",
    "n = []\n",
    "for i in new_abstract:\n",
    "    n.append(idx_word.get(i, '#'))\n",
    "    \n",
    "' '.join(n)"
   ]
  },
  {
   "cell_type": "code",
   "execution_count": null,
   "metadata": {},
   "outputs": [],
   "source": [
    "exp_preds= np.exp(preds)\n",
    "preds = exp_preds / sum(exp_preds)\n",
    "preds"
   ]
  },
  {
   "cell_type": "code",
   "execution_count": null,
   "metadata": {},
   "outputs": [],
   "source": [
    "preds.sum()"
   ]
  },
  {
   "cell_type": "code",
   "execution_count": null,
   "metadata": {},
   "outputs": [],
   "source": [
    "preds.shape"
   ]
  },
  {
   "cell_type": "code",
   "execution_count": null,
   "metadata": {},
   "outputs": [],
   "source": [
    "np.argmax(np.random.multinomial(1, preds, 1)[0])"
   ]
  },
  {
   "cell_type": "code",
   "execution_count": null,
   "metadata": {},
   "outputs": [],
   "source": [
    "def make_word_level_model():\n",
    "\n",
    "    model = Sequential()\n",
    "\n",
    "    model.add(Embedding(input_dim = num_words, \n",
    "                        output_dim = embedding_matrix.shape[1], input_length = training_length,\n",
    "                        weights = None, mask_zero = True, \n",
    "                        trainable = True))\n",
    "\n",
    "    model.add(Masking(mask_value = 0.0))\n",
    "    model.add(LSTM(128, return_sequences=True, dropout=0.1))\n",
    "    model.add(LSTM(128, return_sequences=False, dropout=0.1))\n",
    "    model.add(Dense(128, activation = 'relu'))\n",
    "    model.add(Dropout(0.5))\n",
    "    model.add(Dense(num_words, activation = 'softmax'))\n",
    "    \n",
    "    model.compile(optimizer = 'adam', loss = 'categorical_crossentropy',\n",
    "                  metrics = ['accuracy'])\n",
    "    return model\n",
    "\n",
    "model = make_word_level_model()\n",
    "model.summary()"
   ]
  },
  {
   "cell_type": "code",
   "execution_count": null,
   "metadata": {},
   "outputs": [],
   "source": [
    "model.compile(optimizer = 'adam', loss = 'categorical_crossentropy', metrics = ['accuracy'])\n",
    "\n",
    "from keras.callbacks import EarlyStopping, ModelCheckpoint\n",
    "\n",
    "callbacks = [EarlyStopping(monitor = 'val_loss', patience = 5),\n",
    "             ModelCheckpoint('../models/better_trained_embeddings.h5', monitor = 'val_loss', \n",
    "                             save_best_only = True, save_weights_only = False)]"
   ]
  },
  {
   "cell_type": "code",
   "execution_count": null,
   "metadata": {},
   "outputs": [],
   "source": [
    "history = model.fit(X_train, y_train, epochs = 150, callbacks=callbacks, batch_size = 1024, \n",
    "                    validation_data = (X_valid, y_valid))"
   ]
  },
  {
   "cell_type": "code",
   "execution_count": null,
   "metadata": {},
   "outputs": [],
   "source": [
    "from keras.models import load_model\n",
    "\n",
    "model = load_model('../models/better_trained_embeddings.h5')"
   ]
  },
  {
   "cell_type": "code",
   "execution_count": null,
   "metadata": {},
   "outputs": [],
   "source": [
    "import random\n",
    "\n",
    "def generate_output(new_words = 50, diversity = 1):\n",
    "    s = random.choice(sequences)\n",
    "    seed_idx = random.randint(0, len(s) - training_length)\n",
    "    end_idx = seed_idx + training_length\n",
    "    \n",
    "    seed = s[seed_idx:end_idx] \n",
    "    generated = seed[:] + ['#']\n",
    "    \n",
    "    actual = generated[:] + s[end_idx:end_idx + training_length]\n",
    "\n",
    "    for i in range(new_words):\n",
    "    \n",
    "        preds = model.predict(np.array(seed).reshape(1, -1))[0].astype(np.float64)\n",
    "\n",
    "        # Diversify\n",
    "        preds = np.log(preds) / diversity\n",
    "        exp_preds = np.exp(preds)\n",
    "       \n",
    "        # Softmax\n",
    "        preds = exp_preds / sum(exp_preds)\n",
    "        \n",
    "        probas = np.random.multinomial(1, preds, 1)[0]\n",
    "        \n",
    "        next_idx = np.argmax(probas)\n",
    "        seed = seed[1:] + [next_idx]\n",
    "        generated.append(next_idx)\n",
    "    \n",
    "    return generated, actual"
   ]
  },
  {
   "cell_type": "code",
   "execution_count": null,
   "metadata": {},
   "outputs": [],
   "source": [
    "new_abstract, actual = generate_output(diversity = 1.5)\n",
    "\n",
    "n = []\n",
    "a = []\n",
    "\n",
    "for i in new_abstract:\n",
    "    n.append(idx_word.get(i, '#'))\n",
    "    \n",
    "for i in actual:\n",
    "    a.append(idx_word.get(i, '#'))\n",
    "\n",
    "' '.join(n[:len(a)])\n",
    "' '.join(a)"
   ]
  },
  {
   "cell_type": "markdown",
   "metadata": {},
   "source": [
    "# Keep Punctuation\n",
    "\n",
    "The default Tokenizer removes punctuation. Which means we get slightly non-sense sentences. We can keep in the punctuation and then train our own embeddings."
   ]
  },
  {
   "cell_type": "code",
   "execution_count": null,
   "metadata": {},
   "outputs": [],
   "source": [
    "tokenizer = Tokenizer(lower = False, filters = '!\"#%(),-.:;=?[\\\\]^_`{|}~\\t\\n')\n",
    "tokenizer.fit_on_texts(abstracts)\n",
    "\n",
    "word_idx = tokenizer.word_index\n",
    "idx_word = tokenizer.index_word\n",
    "\n",
    "len(word_idx)"
   ]
  },
  {
   "cell_type": "code",
   "execution_count": null,
   "metadata": {},
   "outputs": [],
   "source": [
    "list(sorted(tokenizer.word_counts.items(), key = lambda x: x[1], reverse = True))[:15]"
   ]
  },
  {
   "cell_type": "code",
   "execution_count": null,
   "metadata": {},
   "outputs": [],
   "source": []
  },
  {
   "cell_type": "code",
   "execution_count": null,
   "metadata": {},
   "outputs": [],
   "source": [
    "training_length = 50\n",
    "word_idx, idx_word, num_words, abstracts, sequences, training_seq, labels = make_sequences(original_abstracts, training_length)"
   ]
  },
  {
   "cell_type": "code",
   "execution_count": null,
   "metadata": {},
   "outputs": [],
   "source": [
    "word_idx, idx_word, num_words, abstracts, sequences, training_seq, labels = make_sequences(original_abstracts, training_length, \n",
    "                                                                                           lower = False)"
   ]
  },
  {
   "cell_type": "code",
   "execution_count": null,
   "metadata": {},
   "outputs": [],
   "source": [
    "word_idx, idx_word, num_words, abstracts, sequences, training_seq, labels = make_sequences(original_abstracts, training_length,\n",
    "                                                                                lower = False,\n",
    "                                                                                filters = '!\"%;[\\\\]^_`{|}~\\t\\n')"
   ]
  },
  {
   "cell_type": "code",
   "execution_count": null,
   "metadata": {},
   "outputs": [],
   "source": [
    "def make_word_level_model(embedding_dim = 100):\n",
    "\n",
    "    model = Sequential()\n",
    "    model.add(Embedding(input_dim = num_words, \n",
    "                        output_dim = embedding_dim, \n",
    "                        input_length = training_length,\n",
    "                        weights = None, mask_zero = False, \n",
    "                        trainable = True))\n",
    "    \n",
    "    model.add(LSTM(128, return_sequences=False, dropout=0.1))\n",
    "#     model.add(LSTM(128, return_sequences=False, dropout=0.1))\n",
    "    \n",
    "    model.add(Dense(256, activation = 'relu'))\n",
    "    model.add(Dropout(0.25))\n",
    "    model.add(Dense(128, activation = 'relu'))\n",
    "    model.add(Dense(num_words, activation = 'softmax'))\n",
    "    \n",
    "    model.compile(optimizer = 'adam', loss = 'categorical_crossentropy',\n",
    "                  metrics = ['accuracy'])\n",
    "    return model\n",
    "\n",
    "model = make_word_level_model()\n",
    "model.summary()"
   ]
  },
  {
   "cell_type": "code",
   "execution_count": null,
   "metadata": {},
   "outputs": [],
   "source": [
    "from keras.utils import to_categorical\n",
    "\n",
    "X = np.array(training_seq)\n",
    "X.shape\n",
    "\n",
    "y = to_categorical(labels)\n",
    "y.shape"
   ]
  },
  {
   "cell_type": "code",
   "execution_count": null,
   "metadata": {},
   "outputs": [],
   "source": [
    "from sklearn.model_selection import train_test_split\n",
    "\n",
    "X_train, X_valid, y_train, y_valid = train_test_split(X, y, test_size = 0.25, shuffle = True)\n",
    "\n",
    "X_train.shape\n",
    "y_train.shape"
   ]
  },
  {
   "cell_type": "code",
   "execution_count": null,
   "metadata": {},
   "outputs": [],
   "source": [
    "callbacks = [EarlyStopping(monitor = 'val_loss', patience = 5),\n",
    "             ModelCheckpoint('../models/better_trained_embeddings_all_vocab_1_lstm_layer.h5', monitor = 'val_loss', \n",
    "                             save_best_only = True, save_weights_only = False)]"
   ]
  },
  {
   "cell_type": "code",
   "execution_count": null,
   "metadata": {},
   "outputs": [],
   "source": [
    "history = model.fit(X_train, y_train, epochs = 150, callbacks=callbacks,\n",
    "                    batch_size = 256, validation_data = (X_valid, y_valid))"
   ]
  },
  {
   "cell_type": "code",
   "execution_count": null,
   "metadata": {},
   "outputs": [],
   "source": [
    "import random\n",
    "\n",
    "def generate_output(new_words = 50, diversity = 1.5):\n",
    "    s = random.choice(sequences)\n",
    "    seed_idx = random.randint(0, len(s) - training_length)\n",
    "    end_idx = seed_idx + training_length\n",
    "    \n",
    "    seed = s[seed_idx:end_idx] \n",
    "    generated = seed[:] + ['#']\n",
    "    \n",
    "    actual = generated[:] + s[end_idx:end_idx + training_length]\n",
    "\n",
    "    for i in range(new_words):\n",
    "    \n",
    "        preds = model.predict(np.array(seed).reshape(1, -1))[0].astype(np.float64)\n",
    "\n",
    "        # Diversify\n",
    "        preds = np.log(preds) / diversity\n",
    "        exp_preds = np.exp(preds)\n",
    "       \n",
    "        # Softmax\n",
    "        preds = exp_preds / sum(exp_preds)\n",
    "        \n",
    "        probas = np.random.multinomial(1, preds, 1)[0]\n",
    "        \n",
    "        next_idx = np.argmax(probas)\n",
    "        seed = seed[1:] + [next_idx]\n",
    "        generated.append(next_idx)\n",
    "    \n",
    "    return generated, actual"
   ]
  },
  {
   "cell_type": "code",
   "execution_count": null,
   "metadata": {},
   "outputs": [],
   "source": [
    "def generate_and_display_output():\n",
    "    gen, actual = generate_output()\n",
    "\n",
    "    n = []\n",
    "    a = []\n",
    "\n",
    "    for i in gen:\n",
    "        n.append(idx_word.get(i, '< --- >'))\n",
    "\n",
    "    for i in actual:\n",
    "        a.append(idx_word.get(i, '< --- >'))\n",
    "\n",
    "    print(' '.join(n[:len(a)]))\n",
    "    print('\\n\\n')\n",
    "    print(' '.join(a))"
   ]
  },
  {
   "cell_type": "code",
   "execution_count": null,
   "metadata": {},
   "outputs": [],
   "source": [
    "generate_and_display_output()"
   ]
  },
  {
   "cell_type": "code",
   "execution_count": null,
   "metadata": {},
   "outputs": [],
   "source": [
    "generate_and_display_output()"
   ]
  },
  {
   "cell_type": "code",
   "execution_count": null,
   "metadata": {},
   "outputs": [],
   "source": [
    "def guess_human():\n",
    "    gen, actual = generate_output()\n",
    "    \n",
    "    n = []\n",
    "    a = []\n",
    "\n",
    "    for i in gen:\n",
    "        n.append(idx_word.get(i, '< --- >'))\n",
    "\n",
    "    for i in actual:\n",
    "        a.append(idx_word.get(i, '< --- >'))\n",
    "        \n",
    "        \n",
    "    output = {'c': ' '.join(n[:len(a)]), 'h': ' '.join(a)}\n",
    "    h_or_c = random.choice(list(output.keys()))\n",
    "    \n",
    "    not_h_or_c = [x for x in output.keys() if x != h_or_c][0]\n",
    "    print(output[h_or_c])\n",
    "    print('\\n')\n",
    "    print(output[not_h_or_c])\n",
    "    print('\\n')\n",
    "    \n",
    "    guess = input('Enter \"h\" for human first or \"c\" for computer first: ')\n",
    "    print('\\n')\n",
    "    \n",
    "    if guess == 'h' and h_or_c == 'h':\n",
    "        print('Correct')\n",
    "    elif guess == 'c' and h_or_c == 'c':\n",
    "        print('Correct')\n",
    "    else:\n",
    "        print('Incorrect')"
   ]
  },
  {
   "cell_type": "code",
   "execution_count": null,
   "metadata": {},
   "outputs": [],
   "source": [
    "guess_human()"
   ]
  },
  {
   "cell_type": "code",
   "execution_count": null,
   "metadata": {},
   "outputs": [],
   "source": [
    "guess_human()"
   ]
  },
  {
   "cell_type": "code",
   "execution_count": null,
   "metadata": {},
   "outputs": [],
   "source": []
  }
 ],
 "metadata": {
  "kernelspec": {
   "display_name": "Python [conda env:tensorflow_p36]",
   "language": "python",
   "name": "conda-env-tensorflow_p36-py"
  },
  "language_info": {
   "codemirror_mode": {
    "name": "ipython",
    "version": 3
   },
   "file_extension": ".py",
   "mimetype": "text/x-python",
   "name": "python",
   "nbconvert_exporter": "python",
   "pygments_lexer": "ipython3",
   "version": "3.6.6"
  }
 },
 "nbformat": 4,
 "nbformat_minor": 2
}

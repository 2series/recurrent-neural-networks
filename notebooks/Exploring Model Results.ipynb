{
 "cells": [
  {
   "cell_type": "markdown",
   "metadata": {},
   "source": [
    "# Introduction: Using Trained Model\n",
    "\n",
    "The purpose of this noteobook is to use the trained word level model in order to make predictions. We can look at using both the model trained with pre-trained embeddings and the model with embeddings that were trained from scratch."
   ]
  },
  {
   "cell_type": "code",
   "execution_count": 1,
   "metadata": {},
   "outputs": [],
   "source": [
    "%load_ext autoreload\n",
    "%autoreload 2"
   ]
  },
  {
   "cell_type": "code",
   "execution_count": 19,
   "metadata": {},
   "outputs": [],
   "source": [
    "from IPython.core.interactiveshell import InteractiveShell\n",
    "from IPython.display import HTML\n",
    "\n",
    "InteractiveShell.ast_node_interactivity = 'all'"
   ]
  },
  {
   "cell_type": "code",
   "execution_count": 38,
   "metadata": {},
   "outputs": [],
   "source": [
    "from keras import Model\n",
    "from keras.models import load_model\n",
    "import warnings\n",
    "warnings.filterwarnings('ignore', category = RuntimeWarning)\n",
    "warnings.filterwarnings('ignore', category = UserWarning)\n",
    "\n",
    "BATCH_SIZE = 2048\n",
    "RANDOM_STATE = 50\n",
    "\n",
    "import numpy as np\n",
    "import pandas as pd\n",
    "from utils import get_model, find_closest, get_sequences, create_train_valid,  generate_output, guess_human"
   ]
  },
  {
   "cell_type": "markdown",
   "metadata": {},
   "source": [
    "# Model Trained with Own Embeddings"
   ]
  },
  {
   "cell_type": "code",
   "execution_count": 4,
   "metadata": {},
   "outputs": [
    {
     "name": "stdout",
     "output_type": "stream",
     "text": [
      "_________________________________________________________________\n",
      "Layer (type)                 Output Shape              Param #   \n",
      "=================================================================\n",
      "embedding_2 (Embedding)      (None, None, 100)         1619200   \n",
      "_________________________________________________________________\n",
      "lstm_2 (LSTM)                (None, 128)               117248    \n",
      "_________________________________________________________________\n",
      "dense_3 (Dense)              (None, 128)               16512     \n",
      "_________________________________________________________________\n",
      "dropout_2 (Dropout)          (None, 128)               0         \n",
      "_________________________________________________________________\n",
      "dense_4 (Dense)              (None, 16192)             2088768   \n",
      "=================================================================\n",
      "Total params: 3,841,728\n",
      "Trainable params: 3,841,728\n",
      "Non-trainable params: 0\n",
      "_________________________________________________________________\n"
     ]
    },
    {
     "name": "stderr",
     "output_type": "stream",
     "text": [
      "/home/ubuntu/git/recurrent-neural-networks/notebooks/utils.py:26: RuntimeWarning: invalid value encountered in true_divide\n",
      "  embeddings = embeddings / np.linalg.norm(embeddings, axis = 1).reshape((-1, 1))\n"
     ]
    }
   ],
   "source": [
    "model, embeddings, word_idx, idx_word = get_model('training-rnn')\n",
    "model.summary()"
   ]
  },
  {
   "cell_type": "markdown",
   "metadata": {},
   "source": [
    "## Inspect Trained Embeddings"
   ]
  },
  {
   "cell_type": "code",
   "execution_count": 5,
   "metadata": {},
   "outputs": [
    {
     "name": "stdout",
     "output_type": "stream",
     "text": [
      "Query: the\n",
      "\n",
      "Word: the             Cosine Similarity: 1.0\n",
      "Word: a               Cosine Similarity: 0.8669000267982483\n",
      "Word: this            Cosine Similarity: 0.8206999897956848\n",
      "Word: entire          Cosine Similarity: 0.7939000129699707\n",
      "Word: its             Cosine Similarity: 0.791100025177002\n",
      "Word: no              Cosine Similarity: 0.7544999718666077\n",
      "Word: second          Cosine Similarity: 0.7511000037193298\n",
      "Word: new             Cosine Similarity: 0.7408999800682068\n",
      "Word: another         Cosine Similarity: 0.7401999831199646\n",
      "Word: The             Cosine Similarity: 0.7389000058174133\n"
     ]
    }
   ],
   "source": [
    "find_closest('the', embeddings, word_idx, idx_word)"
   ]
  },
  {
   "cell_type": "code",
   "execution_count": 6,
   "metadata": {},
   "outputs": [
    {
     "name": "stdout",
     "output_type": "stream",
     "text": [
      "Query: a\n",
      "\n",
      "Word: a               Cosine Similarity: 1.0\n",
      "Word: the             Cosine Similarity: 0.8669000267982483\n",
      "Word: A               Cosine Similarity: 0.8044000267982483\n",
      "Word: another         Cosine Similarity: 0.8019999861717224\n",
      "Word: this            Cosine Similarity: 0.7854999899864197\n",
      "Word: any             Cosine Similarity: 0.7379999756813049\n",
      "Word: no              Cosine Similarity: 0.7372000217437744\n",
      "Word: its             Cosine Similarity: 0.7357000112533569\n",
      "Word: second          Cosine Similarity: 0.7120000123977661\n",
      "Word: unprecedented   Cosine Similarity: 0.7078999876976013\n"
     ]
    }
   ],
   "source": [
    "find_closest('a', embeddings, word_idx, idx_word)"
   ]
  },
  {
   "cell_type": "code",
   "execution_count": 7,
   "metadata": {},
   "outputs": [
    {
     "name": "stdout",
     "output_type": "stream",
     "text": [
      "Query: .\n",
      "\n",
      "Word: .               Cosine Similarity: 1.0\n",
      "Word: since           Cosine Similarity: 0.7046999931335449\n",
      "Word: until           Cosine Similarity: 0.6985999941825867\n",
      "Word: when            Cosine Similarity: 0.6919999718666077\n",
      "Word: ?               Cosine Similarity: 0.6881999969482422\n",
      "Word: while           Cosine Similarity: 0.6771000027656555\n",
      "Word: and             Cosine Similarity: 0.670799970626831\n",
      "Word: after           Cosine Similarity: 0.659500002861023\n",
      "Word: if              Cosine Similarity: 0.65829998254776\n",
      "Word: by              Cosine Similarity: 0.6575999855995178\n"
     ]
    }
   ],
   "source": [
    "find_closest('.', embeddings, word_idx, idx_word)"
   ]
  },
  {
   "cell_type": "code",
   "execution_count": 8,
   "metadata": {},
   "outputs": [
    {
     "name": "stdout",
     "output_type": "stream",
     "text": [
      "Query: neural\n",
      "\n",
      "Word: neural          Cosine Similarity: 1.0\n",
      "Word: lower-layer     Cosine Similarity: 0.6693999767303467\n",
      "Word: RETE            Cosine Similarity: 0.6685000061988831\n",
      "Word: TCP/IP          Cosine Similarity: 0.666100025177002\n",
      "Word: retro-causal    Cosine Similarity: 0.6539000272750854\n",
      "Word: Neural          Cosine Similarity: 0.647599995136261\n",
      "Word: fuzzy-neural    Cosine Similarity: 0.6473000049591064\n",
      "Word: neuronal        Cosine Similarity: 0.6272000074386597\n",
      "Word: 3G              Cosine Similarity: 0.6029000282287598\n",
      "Word: self-stabilizing Cosine Similarity: 0.590499997138977\n"
     ]
    }
   ],
   "source": [
    "find_closest('neural', embeddings, word_idx, idx_word)"
   ]
  },
  {
   "cell_type": "code",
   "execution_count": 9,
   "metadata": {},
   "outputs": [
    {
     "name": "stdout",
     "output_type": "stream",
     "text": [
      "UNK has no pre-trained embedding.\n"
     ]
    }
   ],
   "source": [
    "find_closest('UNK', embeddings, word_idx, idx_word)"
   ]
  },
  {
   "cell_type": "markdown",
   "metadata": {},
   "source": [
    "# Evaluate on Test Data"
   ]
  },
  {
   "cell_type": "code",
   "execution_count": 11,
   "metadata": {},
   "outputs": [
    {
     "name": "stdout",
     "output_type": "stream",
     "text": [
      "There are 16192 unique words.\n",
      "There are 318563 training sequences.\n"
     ]
    }
   ],
   "source": [
    "data = pd.read_csv('../data/neural_network_patent_query.csv')\n",
    "abstracts = list(data['patent_abstract'])\n",
    "features, labels, sequences = get_sequences(abstracts, model_name = 'training-rnn')\n",
    "X_train, X_test, y_train, y_test = create_train_valid(features, labels, num_words = len(word_idx))"
   ]
  },
  {
   "cell_type": "code",
   "execution_count": 14,
   "metadata": {},
   "outputs": [
    {
     "data": {
      "text/plain": [
       "(95569, 50)"
      ]
     },
     "execution_count": 14,
     "metadata": {},
     "output_type": "execute_result"
    }
   ],
   "source": [
    "X_test.shape"
   ]
  },
  {
   "cell_type": "code",
   "execution_count": 15,
   "metadata": {},
   "outputs": [
    {
     "data": {
      "text/plain": [
       "(95569, 16192)"
      ]
     },
     "execution_count": 15,
     "metadata": {},
     "output_type": "execute_result"
    }
   ],
   "source": [
    "y_test.shape"
   ]
  },
  {
   "cell_type": "code",
   "execution_count": 13,
   "metadata": {},
   "outputs": [
    {
     "name": "stdout",
     "output_type": "stream",
     "text": [
      "Model metrics: log loss and accuracy\n",
      "95569/95569 [==============================] - 10s 108us/step\n"
     ]
    },
    {
     "data": {
      "text/plain": [
       "[23.29241646971819, 0.0]"
      ]
     },
     "execution_count": 13,
     "metadata": {},
     "output_type": "execute_result"
    }
   ],
   "source": [
    "print('Model metrics: log loss and accuracy')\n",
    "model.evaluate(X_test, y_test, batch_size = 2048)"
   ]
  },
  {
   "cell_type": "markdown",
   "metadata": {},
   "source": [
    "# Generate Output"
   ]
  },
  {
   "cell_type": "code",
   "execution_count": 20,
   "metadata": {},
   "outputs": [
    {
     "name": "stderr",
     "output_type": "stream",
     "text": [
      "/home/ubuntu/git/recurrent-neural-networks/notebooks/utils.py:220: RuntimeWarning: divide by zero encountered in log\n",
      "  preds = np.log(preds) / diversity\n"
     ]
    },
    {
     "data": {
      "text/html": [
       "<h1 style=\"color: darkblue;\"><center>Seed Sequence</center></h1><div style=\"border:1px inset black;padding:1em;font-size: 20px;\">serial processing-type computer. Input pattern information is associated with the associative memory, and pattern recognition based on the computer evaluates an associative output. In accordance with this evaluation, an associative and restrictive condition is repeatedly added to the energy function of a neural network constituting the</div>"
      ],
      "text/plain": [
       "<IPython.core.display.HTML object>"
      ]
     },
     "execution_count": 20,
     "metadata": {},
     "output_type": "execute_result"
    },
    {
     "data": {
      "text/html": [
       "<h1 style=\"color: darkred;\"><center>RNN Generated</center></h1><div style=\"border:1px inset black;padding:1em;font-size: 20px;\">< --- > ANN. If a teacher signal is greater than a neural network. The apparatus uses a fuzzy image and generating the CPU to eliminate evaluation values as the prediction of the breathing pattern and the angle vector, every acoustic wave is fine-tuned by substituting in the packet transmission</div>"
      ],
      "text/plain": [
       "<IPython.core.display.HTML object>"
      ]
     },
     "execution_count": 20,
     "metadata": {},
     "output_type": "execute_result"
    },
    {
     "data": {
      "text/html": [
       "<h1 style=\"color: darkgreen;\"><center>Actual</center></h1><div style=\"border:1px inset black;padding:1em;font-size: 20px;\">< --- > associative memory, thereby converging the associative output on a stable state of the energy. The converged associative output is verified with intelligence information stored in a computer memory. The associative and restrictive condition is again repeatedly added to the energy function in accordance with the verification so</div>"
      ],
      "text/plain": [
       "<IPython.core.display.HTML object>"
      ]
     },
     "execution_count": 20,
     "metadata": {},
     "output_type": "execute_result"
    }
   ],
   "source": [
    "seed_html, gen_html, a_html = generate_output(model, sequences, idx_word)\n",
    "HTML(seed_html)\n",
    "HTML(gen_html)\n",
    "HTML(a_html)"
   ]
  },
  {
   "cell_type": "code",
   "execution_count": 21,
   "metadata": {},
   "outputs": [
    {
     "name": "stderr",
     "output_type": "stream",
     "text": [
      "/home/ubuntu/git/recurrent-neural-networks/notebooks/utils.py:220: RuntimeWarning: divide by zero encountered in log\n",
      "  preds = np.log(preds) / diversity\n"
     ]
    },
    {
     "data": {
      "text/html": [
       "<h1 style=\"color: darkblue;\"><center>Seed Sequence</center></h1><div style=\"border:1px inset black;padding:1em;font-size: 20px;\">article of manufacture provide, in response to lexical pronunciation information, efficient generation of postlexical pronunciation information. A method is presented for providing, in response to a lexical pronunciation, efficient generation of a postlexical pronunciation, including the steps of: determining lexical phones, lexical features</div>"
      ],
      "text/plain": [
       "<IPython.core.display.HTML object>"
      ]
     },
     "execution_count": 21,
     "metadata": {},
     "output_type": "execute_result"
    },
    {
     "data": {
      "text/html": [
       "<h1 style=\"color: darkred;\"><center>RNN Generated</center></h1><div style=\"border:1px inset black;padding:1em;font-size: 20px;\">< --- > attributes. Since the pool of different classes is at a uniform scale detector system defined. Given an alternate number are adjusted. This certainty is particularly suited that the large predetermined results. Content sensitive materials that generates feature vector component vectors) range of plural operation of</div>"
      ],
      "text/plain": [
       "<IPython.core.display.HTML object>"
      ]
     },
     "execution_count": 21,
     "metadata": {},
     "output_type": "execute_result"
    },
    {
     "data": {
      "text/html": [
       "<h1 style=\"color: darkgreen;\"><center>Actual</center></h1><div style=\"border:1px inset black;padding:1em;font-size: 20px;\">< --- >, and boundary information for a predetermined portion of text and utilizing a pretrained neural network that was pretrained using lexical phones, postlexical phones, lexical features, and boundary information to generate a neural network hypothesis for a postlexical pronunciation of the predetermined portion of text.</div>"
      ],
      "text/plain": [
       "<IPython.core.display.HTML object>"
      ]
     },
     "execution_count": 21,
     "metadata": {},
     "output_type": "execute_result"
    }
   ],
   "source": [
    "seed_html, gen_html, a_html = generate_output(model, sequences, idx_word)\n",
    "HTML(seed_html)\n",
    "HTML(gen_html)\n",
    "HTML(a_html)"
   ]
  },
  {
   "cell_type": "markdown",
   "metadata": {},
   "source": [
    "# Output from Human or Machine?"
   ]
  },
  {
   "cell_type": "code",
   "execution_count": null,
   "metadata": {},
   "outputs": [],
   "source": [
    "def guess_human(model, sequences, training_length=50, new_words=50):\n",
    "    \"\"\"Produce 2 RNN sequences and play game to compare to actaul.\n",
    "       Diversity is randomly set between 0.5 and 1.25\"\"\"\n",
    "    \n",
    "    diversity = np.random.uniform(0.5, 1.25)\n",
    "    sequence, gen_list, actual = generate_output(model, sequences, training_length, \n",
    "                                                 diversity=diversity, return_output=True, n_gen = 2)\n",
    "    gen_0, gen_1 = gen_list\n",
    "    \n",
    "    output = {'sequence': remove_spaces(' '.join(sequence)),\n",
    "              'c0': remove_spaces(' '.join(gen_0)),\n",
    "              'c1': remove_spaces(' '.join(gen_1)),\n",
    "              'h': remove_spaces(' '.join(actual))}\n",
    "    \n",
    "    print(f\"Seed Sequence: {output['sequence']}\\n\")\n",
    "    \n",
    "    choices = ['h', 'c0', 'c1']\n",
    "          \n",
    "    selected = []\n",
    "    i = 0\n",
    "    while len(selected) < 3:\n",
    "        choice = random.choice(choices)\n",
    "        selected.append(choice)\n",
    "        print('\\n')\n",
    "        print(f'Option {i + 1} {output[choice]}')\n",
    "        choices.remove(selected[-1])\n",
    "        i += 1\n",
    "    \n",
    "    print('\\n')\n",
    "    guess = int(input('Enter option you think is human (1-3): ')) - 1\n",
    "    print('\\n')\n",
    "    \n",
    "    if guess == np.where(np.array(selected) == 'h')[0][0]:\n",
    "        print('Correct')\n",
    "        print('Correct Ordering', selected)\n",
    "    else:\n",
    "        print('Incorrect')\n",
    "        print('Correct Ordering', selected)\n",
    "          \n",
    "    print('Diversity', round(diversity, 2))"
   ]
  },
  {
   "cell_type": "code",
   "execution_count": 24,
   "metadata": {},
   "outputs": [],
   "source": [
    "training_length = 50"
   ]
  },
  {
   "cell_type": "code",
   "execution_count": 28,
   "metadata": {},
   "outputs": [
    {
     "name": "stderr",
     "output_type": "stream",
     "text": [
      "/home/ubuntu/git/recurrent-neural-networks/notebooks/utils.py:220: RuntimeWarning: divide by zero encountered in log\n",
      "  preds = np.log(preds) / diversity\n"
     ]
    },
    {
     "name": "stdout",
     "output_type": "stream",
     "text": [
      "Seed Sequence: state of the structure in at least one residual relevant point. The state of the structure is detected in a plurality of relevant points under operating conditions. The state of the structure is estimated in at least one residual relevant point by the associated neural network on the\n",
      "\n",
      "\n",
      "\n",
      "Option 1 < --- > neural network, on prior to the network, of the process. A neural network is extracts to the neural network. Performing a target input unit which receives a data set to form the storage circuit and supplying the output layer to a second learning section for outputting\n",
      "\n",
      "\n",
      "Option 2 < --- > actual variable causes of errors to include either a plurality of element and processing weights of the set of utilization and reliability and data that are determined in a third linguistic predicted set. In a first embodiment of a neural network is trained by selecting an basis of this\n",
      "\n",
      "\n",
      "Option 3 < --- > basis of the pre-established associated relationship. The state of the estimated structure is compared with the detected state at the residual relevant point, such that an intact state of the structure is determined if the expected and detected values of the state parameter match, or a defective\n",
      "\n",
      "\n",
      "Enter option you think is human (1-3): 3\n",
      "\n",
      "\n",
      "Correct\n",
      "Correct Ordering ['c0', 'c1', 'h']\n",
      "Diversity 1.02\n"
     ]
    }
   ],
   "source": [
    "guess_human(model, sequences, idx_word)"
   ]
  },
  {
   "cell_type": "code",
   "execution_count": 29,
   "metadata": {},
   "outputs": [
    {
     "name": "stderr",
     "output_type": "stream",
     "text": [
      "/home/ubuntu/git/recurrent-neural-networks/notebooks/utils.py:220: RuntimeWarning: divide by zero encountered in log\n",
      "  preds = np.log(preds) / diversity\n"
     ]
    },
    {
     "name": "stdout",
     "output_type": "stream",
     "text": [
      "Seed Sequence: processing unit, an instruction that specifies data values for performing a tensor computation. In response to receiving the instruction, the method may include, performing, by the processing unit, the tensor computation by executing a loop nest comprising a plurality of loops, wherein a\n",
      "\n",
      "\n",
      "\n",
      "Option 1 < --- > structure of the loop nest is defined based on one or more of the data values of the instruction. The tensor computation can be at least a portion of a computation of a neural network layer. The data values specified by the instruction may comprise a value that\n",
      "\n",
      "\n",
      "Option 2 < --- > global circuit for determining only the sum of the learning phase is being normalized. The set of neural networks, the new weight elements is being traversed from the connection weight. Furthermore, at a respective time mode unit comprises a training product based upon operation, generates\n",
      "\n",
      "\n",
      "Option 3 < --- > plurality of states are associated with each artificial neuron drive one of said control outputs, the unit transform tuning composed of the RPU associated with the values, whether the recognition network unit can wirelessly select a neuron circuit that is where if that corresponding anticipated signals, of\n",
      "\n",
      "\n",
      "Enter option you think is human (1-3): 1\n",
      "\n",
      "\n",
      "Correct\n",
      "Correct Ordering ['h', 'c1', 'c0']\n",
      "Diversity 1.18\n"
     ]
    }
   ],
   "source": [
    "guess_human(model, sequences, idx_word)"
   ]
  },
  {
   "cell_type": "markdown",
   "metadata": {},
   "source": [
    "## Appendix: Injecting Diversity into Predictions"
   ]
  },
  {
   "cell_type": "code",
   "execution_count": 30,
   "metadata": {},
   "outputs": [],
   "source": [
    "import matplotlib.pyplot as plt\n",
    "%matplotlib inline\n",
    "import seaborn as sns"
   ]
  },
  {
   "cell_type": "code",
   "execution_count": 31,
   "metadata": {},
   "outputs": [],
   "source": [
    "def diversify(arr, diversity, plot = False):\n",
    "    div = np.log(arr) / diversity\n",
    "    exp_preds = np.exp(div)\n",
    "    preds = exp_preds / np.sum(exp_preds)\n",
    "    if plot:\n",
    "        plt.figure(figsize = (10, 8));\n",
    "        plt.subplot(2, 1, 1);\n",
    "        sns.distplot(arr); plt.title('Original Distribution');\n",
    "        plt.subplot(2, 1, 2);\n",
    "        sns.distplot(preds); plt.title(f'Distribution with {diversity} diversity')\n",
    "    probas = np.random.multinomial(1, preds, 1);\n",
    "    return probas"
   ]
  },
  {
   "cell_type": "code",
   "execution_count": 34,
   "metadata": {},
   "outputs": [
    {
     "name": "stderr",
     "output_type": "stream",
     "text": [
      "/home/ubuntu/anaconda3/envs/tensorflow_p36/lib/python3.6/site-packages/matplotlib/axes/_axes.py:6462: UserWarning: The 'normed' kwarg is deprecated, and has been replaced by the 'density' kwarg.\n",
      "  warnings.warn(\"The 'normed' kwarg is deprecated, and has been \"\n",
      "/home/ubuntu/anaconda3/envs/tensorflow_p36/lib/python3.6/site-packages/matplotlib/axes/_axes.py:6462: UserWarning: The 'normed' kwarg is deprecated, and has been replaced by the 'density' kwarg.\n",
      "  warnings.warn(\"The 'normed' kwarg is deprecated, and has been \"\n"
     ]
    },
    {
     "data": {
      "image/png": "[encoded data removed]",
      "text/plain": [
       "<Figure size 720x576 with 2 Axes>"
      ]
     },
     "metadata": {},
     "output_type": "display_data"
    }
   ],
   "source": [
    "_ = diversify([0.1, 0.2, 0.4, 0.8, 0.9, 0.1, 0.3, 0.4], 0.5, plot = True)"
   ]
  },
  {
   "cell_type": "code",
   "execution_count": 35,
   "metadata": {},
   "outputs": [
    {
     "name": "stderr",
     "output_type": "stream",
     "text": [
      "/home/ubuntu/anaconda3/envs/tensorflow_p36/lib/python3.6/site-packages/matplotlib/axes/_axes.py:6462: UserWarning: The 'normed' kwarg is deprecated, and has been replaced by the 'density' kwarg.\n",
      "  warnings.warn(\"The 'normed' kwarg is deprecated, and has been \"\n",
      "/home/ubuntu/anaconda3/envs/tensorflow_p36/lib/python3.6/site-packages/matplotlib/axes/_axes.py:6462: UserWarning: The 'normed' kwarg is deprecated, and has been replaced by the 'density' kwarg.\n",
      "  warnings.warn(\"The 'normed' kwarg is deprecated, and has been \"\n"
     ]
    },
    {
     "data": {
      "image/png": "[encoded data removed]",
      "text/plain": [
       "<Figure size 720x576 with 2 Axes>"
      ]
     },
     "metadata": {},
     "output_type": "display_data"
    }
   ],
   "source": [
    "_ = diversify([0.1, 0.2, 0.4, 0.8, 0.9, 0.1, 0.3, 0.4], 2, plot = True)"
   ]
  },
  {
   "cell_type": "code",
   "execution_count": 36,
   "metadata": {},
   "outputs": [
    {
     "name": "stderr",
     "output_type": "stream",
     "text": [
      "/home/ubuntu/anaconda3/envs/tensorflow_p36/lib/python3.6/site-packages/matplotlib/axes/_axes.py:6462: UserWarning: The 'normed' kwarg is deprecated, and has been replaced by the 'density' kwarg.\n",
      "  warnings.warn(\"The 'normed' kwarg is deprecated, and has been \"\n",
      "/home/ubuntu/anaconda3/envs/tensorflow_p36/lib/python3.6/site-packages/matplotlib/axes/_axes.py:6462: UserWarning: The 'normed' kwarg is deprecated, and has been replaced by the 'density' kwarg.\n",
      "  warnings.warn(\"The 'normed' kwarg is deprecated, and has been \"\n"
     ]
    },
    {
     "data": {
      "image/png": "[encoded data removed]",
      "text/plain": [
       "<Figure size 720x576 with 2 Axes>"
      ]
     },
     "metadata": {},
     "output_type": "display_data"
    }
   ],
   "source": [
    "_ = diversify([0.1, 0.2, 0.4, 0.8, 0.9, 0.1, 0.3, 0.4], 10, plot = True)"
   ]
  },
  {
   "cell_type": "code",
   "execution_count": null,
   "metadata": {},
   "outputs": [],
   "source": []
  }
 ],
 "metadata": {
  "kernelspec": {
   "display_name": "Environment (conda_tensorflow_p36)",
   "language": "python",
   "name": "conda_tensorflow_p36"
  },
  "toc": {
   "base_numbering": 1,
   "nav_menu": {},
   "number_sections": true,
   "sideBar": true,
   "skip_h1_title": false,
   "title_cell": "Table of Contents",
   "title_sidebar": "Contents",
   "toc_cell": false,
   "toc_position": {},
   "toc_section_display": true,
   "toc_window_display": false
  },
  "varInspector": {
   "cols": {
    "lenName": 16,
    "lenType": 16,
    "lenVar": 40
   },
   "kernels_config": {
    "python": {
     "delete_cmd_postfix": "",
     "delete_cmd_prefix": "del ",
     "library": "var_list.py",
     "varRefreshCmd": "print(var_dic_list())"
    },
    "r": {
     "delete_cmd_postfix": ") ",
     "delete_cmd_prefix": "rm(",
     "library": "var_list.r",
     "varRefreshCmd": "cat(var_dic_list()) "
    }
   },
   "types_to_exclude": [
    "module",
    "function",
    "builtin_function_or_method",
    "instance",
    "_Feature"
   ],
   "window_display": false
  }
 },
 "nbformat": 4,
 "nbformat_minor": 2
}
